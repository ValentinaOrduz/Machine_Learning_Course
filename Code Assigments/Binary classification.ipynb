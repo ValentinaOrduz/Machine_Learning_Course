{
  "nbformat": 4,
  "nbformat_minor": 0,
  "metadata": {
    "colab": {
      "provenance": [],
      "collapsed_sections": [
        "BNpf6OziMdcC",
        "w6DeJPsmNWNg"
      ],
      "toc_visible": true
    },
    "kernelspec": {
      "name": "python3",
      "display_name": "Python 3"
    },
    "language_info": {
      "name": "python"
    }
  },
  "cells": [
    {
      "cell_type": "markdown",
      "source": [
        "# Learning Models\n",
        "\n",
        "<img src=\"https://blogs.elespectador.com/wp-content/uploads/2017/09/logo-Universidad-Nacional.png\" \n",
        "     style=\"float: right; margin-right: 10px;\" \n",
        "     width=\"130\"\n",
        "     />\n",
        "\n",
        "\n",
        "\n",
        "<div style=\"text-align: left\"> \n",
        "Valentina Orduz Bonilla <br>\n",
        "Student of Mathematics <br>\n",
        "Universidad Nacional de Colombia - Sede Bogotá <br>\n",
        "</div>\n",
        "\n",
        "\n"
      ],
      "metadata": {
        "id": "BNpf6OziMdcC"
      }
    },
    {
      "cell_type": "markdown",
      "source": [
        "Starting from the problems of the SVM models homework, we are going to implement a machine learning model that considers the hypothesis spaces reviewed in class. The model must guarantee:\n",
        "\n",
        "1. Generalization by means of an appropriate cross-validation strategy.\n",
        "2. Hyperparameter adjustment (with an adequate selection of hyperparameters for each model)"
      ],
      "metadata": {
        "id": "DBnQTxdELZwz"
      }
    },
    {
      "cell_type": "code",
      "execution_count": null,
      "metadata": {
        "id": "YKRx1erPFYyZ"
      },
      "outputs": [],
      "source": [
        "# Basic libraries.\n",
        "import numpy as np\n",
        "import pandas as pd\n",
        "import zipfile\n",
        "from pathlib import Path\n",
        "import urllib.request\n",
        "import numpy as np\n",
        "from datetime import datetime\n",
        "\n",
        "# Optimization libraries.\n",
        "from scipy.optimize import linprog\n",
        "from scipy.spatial import Delaunay\n",
        "\n",
        "# Data Preprocessing libraries.\n",
        "from sklearn.model_selection import train_test_split\n",
        "from sklearn.preprocessing import StandardScaler\n",
        "\n",
        "# Machine Learning Models and Metrics.\n",
        "from sklearn.tree import DecisionTreeClassifier\n",
        "from sklearn.svm import SVC\n",
        "from sklearn.neighbors import KNeighborsClassifier\n",
        "from sklearn.linear_model import LogisticRegression\n",
        "\n",
        "# Metrics and GridSearch.\n",
        "from sklearn.metrics import confusion_matrix\n",
        "from sklearn.metrics import accuracy_score\n",
        "from sklearn.model_selection import GridSearchCV\n",
        "from sklearn.metrics import f1_score, make_scorer\n",
        "from sklearn.metrics import recall_score\n",
        "from sklearn.metrics import precision_score\n",
        "from sklearn.model_selection import cross_val_score\n",
        "from sklearn.datasets import make_classification\n",
        "\n",
        "# Visualization libraries.\n",
        "import seaborn as sns\n",
        "import matplotlib.pyplot as plt\n",
        "from matplotlib import style\n",
        "style.use('ggplot')\n",
        "import plotly.express as px\n",
        "from plotly.offline import plot\n",
        "from plotly.subplots import make_subplots\n",
        "\n",
        "from pathlib import Path\n",
        "import urllib.request\n",
        "import zipfile\n",
        "from datetime import datetime"
      ]
    },
    {
      "cell_type": "markdown",
      "source": [
        "#Datasets\n",
        "\n",
        "In the previous document we study the two datasets, Banknote Authentication Data Set and Occupancy Detection Data Set, now we are going to evalute them in differnt models. \n",
        "\n",
        "Let's start saving correctly the information"
      ],
      "metadata": {
        "id": "4XQ7Ni6XNZEJ"
      }
    },
    {
      "cell_type": "code",
      "source": [
        "#Banknote Authentication Data Set\n",
        "\n",
        "#Save the dataset in such a way that we can call any feature\n",
        "df = pd.read_csv(\"https://archive.ics.uci.edu/ml/machine-learning-databases/00267/data_banknote_authentication.txt\", \n",
        "                 sep = ',', \n",
        "                 header = None, \n",
        "                 names=[\"variance_of_Wavelet\",\"skewness_of_Wavelet\",\n",
        "                        \"curtosis_of_Wavelet\",\"entropy\",\n",
        "                        \"class\"],\n",
        "                 thousands = ',')\n",
        "variables_bank=[\"variance_of_Wavelet\",\"skewness_of_Wavelet\",\n",
        "                        \"curtosis_of_Wavelet\",\"entropy\"]\n",
        "\n",
        "#print(\"Dimensionality of the Dataframe:\",df.shape)"
      ],
      "metadata": {
        "id": "azOJCouzNHIn"
      },
      "execution_count": null,
      "outputs": []
    },
    {
      "cell_type": "code",
      "source": [
        "#Occupancy Detection Data Set\n",
        "\n",
        "#Save the dataset in such a way that we can call any feature\n",
        "\n",
        "dateparse = lambda x: datetime.strptime(x, '%Y-%m-%d %H:%M:%S')\n",
        "\n",
        "def load_occupancy_data():\n",
        "    tarball_path = Path(\"datasets/occupancy_data.zip\")\n",
        "    if not tarball_path.is_file():\n",
        "        Path(\"datasets\").mkdir(parents=True, exist_ok=True)\n",
        "        url = \"https://archive.ics.uci.edu/ml/machine-learning-databases/00357/occupancy_data.zip\"\n",
        "        urllib.request.urlretrieve(url, tarball_path)\n",
        "        with zipfile.ZipFile(tarball_path) as occupancy_tarball:\n",
        "           # open the csv file in the dataset\n",
        "           occupancy_tarball.extractall(path=\"datasets\")\n",
        "    list_df =[pd.read_csv(Path(\"datasets/datatraining.txt\"),parse_dates=['date'],date_parser=dateparse),\n",
        "              pd.read_csv(Path(\"datasets/datatest.txt\"),parse_dates=['date'],date_parser=dateparse),\n",
        "              pd.read_csv(Path(\"datasets/datatest2.txt\"),parse_dates=['date'],date_parser=dateparse),]\n",
        "    return list_df"
      ],
      "metadata": {
        "id": "MrrhXqmgNM4D"
      },
      "execution_count": null,
      "outputs": []
    },
    {
      "cell_type": "code",
      "source": [
        "train_o, test1_o, test2_o= load_occupancy_data()\n"
      ],
      "metadata": {
        "id": "iwv1BfEvcQ24"
      },
      "execution_count": null,
      "outputs": []
    },
    {
      "cell_type": "markdown",
      "source": [
        "Now, as in the previous document, we have to change the date feature, in such a way it can be used in the agorithms.  "
      ],
      "metadata": {
        "id": "-eMGVLlLdxZb"
      }
    },
    {
      "cell_type": "code",
      "source": [
        "train_o['date_numeric'] = train_o['date'].apply(lambda time: time.year+time.month/12+ time.day/365 + time.hour/8760+time.minute/525600)\n",
        "test1_o['date_numeric'] = test1_o['date'].apply(lambda time: time.year+time.month/12+ time.day/365 + time.hour/8760+time.minute/525600)\n",
        "test2_o['date_numeric'] = test2_o['date'].apply(lambda time: time.year+time.month/12+ time.day/365 + time.hour/8760+time.minute/525600)"
      ],
      "metadata": {
        "id": "dIkJgt7abP-c"
      },
      "execution_count": null,
      "outputs": []
    },
    {
      "cell_type": "code",
      "source": [
        "variables_occupancy = ['date_numeric', 'Temperature', 'Humidity', 'Light', \n",
        "              'CO2', 'HumidityRatio']"
      ],
      "metadata": {
        "id": "Iy8m-2S3dNKe"
      },
      "execution_count": null,
      "outputs": []
    },
    {
      "cell_type": "markdown",
      "source": [
        "#Dataset division\n",
        "\n",
        "BANKNOTE AUTHENTICATION"
      ],
      "metadata": {
        "id": "KQtcbOhHdNuI"
      }
    },
    {
      "cell_type": "markdown",
      "source": [
        "#Data Splitting \n",
        "\n",
        "We want that this notebook's outputs are the same every time we run it, that is why we need a fixed random seed"
      ],
      "metadata": {
        "id": "w6DeJPsmNWNg"
      }
    },
    {
      "cell_type": "code",
      "source": [
        "np.random.seed(42)"
      ],
      "metadata": {
        "id": "ehLr1nvFPC_K"
      },
      "execution_count": null,
      "outputs": []
    },
    {
      "cell_type": "markdown",
      "source": [
        "Now, we need to take some data for the training, it is going to be 80%, and the rest has to be divided in testing and validation, were we would do 10% and 10%.\n",
        "\n",
        "BANKNOTE AUTHENTICATION"
      ],
      "metadata": {
        "id": "YJWd3IDbhSsD"
      }
    },
    {
      "cell_type": "code",
      "source": [
        "# In the first step we will split the data in training and remaining dataset\n",
        "X_train_banknote, X_rem, y_train_banknote, y_rem = train_test_split(df[variables_bank],df[\"class\"], train_size=0.8)\n",
        "\n",
        "# Now since we want the valid and test size to be equal (10% each of overall data). \n",
        "# we have to define valid_size=0.5 (that is 50% of remaining data)\n",
        "test_size = 0.5\n",
        "X_valid_banknote, X_test_banknote, y_valid_banknote, y_test_banknote = train_test_split(X_rem,y_rem, test_size=0.5)"
      ],
      "metadata": {
        "id": "tHClFC_4fvXl"
      },
      "execution_count": null,
      "outputs": []
    },
    {
      "cell_type": "markdown",
      "source": [
        "OCCUPANCY DETECTION"
      ],
      "metadata": {
        "id": "4c59-eNebPmf"
      }
    },
    {
      "cell_type": "code",
      "source": [
        "X_train_o=train_o[['date_numeric', 'Temperature', 'Humidity', 'Light', \n",
        "              'CO2', 'HumidityRatio', 'Occupancy']]\n",
        "y_train_o=train_o['Occupancy']\n",
        "#df.keys()\n",
        "\n",
        "\n",
        "X_test1_o=test1_o[['date_numeric', 'Temperature', 'Humidity', 'Light', \n",
        "              'CO2', 'HumidityRatio', 'Occupancy']]\n",
        "y_test1_o=test1_o['Occupancy']\n",
        "\n",
        "\n",
        "X_test2_o=test2_o[['date_numeric', 'Temperature', 'Humidity', 'Light', \n",
        "              'CO2', 'HumidityRatio', 'Occupancy']]\n",
        "y_test2_o=test2_o['Occupancy']"
      ],
      "metadata": {
        "id": "D0HzgVGYee3-"
      },
      "execution_count": null,
      "outputs": []
    },
    {
      "cell_type": "markdown",
      "source": [
        "#Feature Scaling"
      ],
      "metadata": {
        "id": "laatI2_vihRH"
      }
    },
    {
      "cell_type": "code",
      "source": [
        "#Banknote Authentication Data Set:\n",
        "scaler_banknote = StandardScaler()\n",
        "df_banknote_transformed = scaler_banknote.fit_transform(X_train_banknote[variables_bank])\n",
        "df_banknote_transformed_test = scaler_banknote.transform(X_test_banknote[variables_bank])\n",
        "df_banknote_transformed_valid = scaler_banknote.transform(X_valid_banknote[variables_bank])\n",
        "\n",
        "#Occupancy Detection Data Set:\n",
        "scaler_occupancy = StandardScaler()\n",
        "df_occupancy_transformed = scaler_occupancy.fit_transform(train_o[variables_occupancy])\n",
        "df_occupancy_transformed_test1 = scaler_occupancy.transform(test1_o[variables_occupancy])\n",
        "df_occupancy_transformed_test2 = scaler_occupancy.transform(test2_o[variables_occupancy])"
      ],
      "metadata": {
        "id": "wF61doYWhtH-"
      },
      "execution_count": null,
      "outputs": []
    },
    {
      "cell_type": "markdown",
      "source": [
        "#Hyperparameter Adjustement\n",
        "\n",
        "In order to use the diffent models, we need to find the appropriate hyperparameters using the training dataset we just defined. For this, it is necessary to have a function that depends of the parameters, and allows us to compare the models. We will call this function a metric.\n",
        "\n",
        "##Metric Definition \n",
        "\n",
        "We need need to choose a metric that evaluates the performance of the algorithms and help us to determine the hyperparameters. Thinking in the bank situation, they want their clients to be comfortable and stay there, having a high recall and a good accuracy, that is why we choose F1 socre.\n",
        "\n",
        "The F1 score (or the F-score or F-measure) can be seen as a harmonic mean of the recall and the precision, where the relative contribution of both is equal. The formula is \n",
        "\n",
        "$$F1=\\frac{2(precision\\cdot recall)}{precision~+~recall}.$$"
      ],
      "metadata": {
        "id": "EVf1LQXCkocO"
      }
    },
    {
      "cell_type": "markdown",
      "source": [
        "##Hyperparameter tuning\n",
        "\n"
      ],
      "metadata": {
        "id": "wkpKd7y4op7S"
      }
    },
    {
      "cell_type": "markdown",
      "source": [
        "Now we are going to find the best hyperparameters for the four models: \n",
        "\n",
        "*   Logistic Regression\n",
        "*   Suport Vector Machine \n",
        "*   K-Nearest Neighbor\n",
        "*   Decision Tree Classifier\n"
      ],
      "metadata": {
        "id": "phYFNOkNqqZi"
      }
    },
    {
      "cell_type": "markdown",
      "source": [
        "###Logistic Regression"
      ],
      "metadata": {
        "id": "RjS5ijS3yHux"
      }
    },
    {
      "cell_type": "code",
      "source": [
        "# Create a logistic regression model\n",
        "model_logistic_reg_banknote = LogisticRegression(max_iter=10000)\n",
        "model_logistic_reg_occupancy = LogisticRegression(max_iter=10000)\n",
        "\n",
        "\n",
        "# Define hyperparameters for tuning\n",
        "param_grid = {'C': [0.001, 0.01, 0.1, 1, 10, 100, 1000,10000], \n",
        "              'penalty': ['l2','l1'],\n",
        "              'solver': ['liblinear', 'saga']} \n",
        "\n",
        "# Define F1 score as the metric for evaluation\n",
        "f1 = make_scorer(f1_score)\n",
        "\n",
        "# Tune hyperparameters using GridSearchCV\n",
        "log_grid_search_banknote = GridSearchCV(model_logistic_reg_banknote, param_grid, cv=5, scoring=f1)\n",
        "log_grid_search_occupancy = GridSearchCV(model_logistic_reg_occupancy, param_grid, cv=5, scoring=f1)\n",
        "log_grid_search_banknote.fit(df_banknote_transformed, y_train_banknote)\n",
        "log_grid_search_occupancy.fit(df_occupancy_transformed, train_o[\"Occupancy\"])"
      ],
      "metadata": {
        "colab": {
          "base_uri": "https://localhost:8080/",
          "height": 117
        },
        "id": "LpCnbxLjoy4g",
        "outputId": "521c4bc5-2d06-4c38-8afe-23569e3b6fb5"
      },
      "execution_count": null,
      "outputs": [
        {
          "output_type": "execute_result",
          "data": {
            "text/plain": [
              "GridSearchCV(cv=5, estimator=LogisticRegression(max_iter=10000),\n",
              "             param_grid={'C': [0.001, 0.01, 0.1, 1, 10, 100, 1000, 10000],\n",
              "                         'penalty': ['l2', 'l1'],\n",
              "                         'solver': ['liblinear', 'saga']},\n",
              "             scoring=make_scorer(f1_score))"
            ],
            "text/html": [
              "<style>#sk-container-id-6 {color: black;background-color: white;}#sk-container-id-6 pre{padding: 0;}#sk-container-id-6 div.sk-toggleable {background-color: white;}#sk-container-id-6 label.sk-toggleable__label {cursor: pointer;display: block;width: 100%;margin-bottom: 0;padding: 0.3em;box-sizing: border-box;text-align: center;}#sk-container-id-6 label.sk-toggleable__label-arrow:before {content: \"▸\";float: left;margin-right: 0.25em;color: #696969;}#sk-container-id-6 label.sk-toggleable__label-arrow:hover:before {color: black;}#sk-container-id-6 div.sk-estimator:hover label.sk-toggleable__label-arrow:before {color: black;}#sk-container-id-6 div.sk-toggleable__content {max-height: 0;max-width: 0;overflow: hidden;text-align: left;background-color: #f0f8ff;}#sk-container-id-6 div.sk-toggleable__content pre {margin: 0.2em;color: black;border-radius: 0.25em;background-color: #f0f8ff;}#sk-container-id-6 input.sk-toggleable__control:checked~div.sk-toggleable__content {max-height: 200px;max-width: 100%;overflow: auto;}#sk-container-id-6 input.sk-toggleable__control:checked~label.sk-toggleable__label-arrow:before {content: \"▾\";}#sk-container-id-6 div.sk-estimator input.sk-toggleable__control:checked~label.sk-toggleable__label {background-color: #d4ebff;}#sk-container-id-6 div.sk-label input.sk-toggleable__control:checked~label.sk-toggleable__label {background-color: #d4ebff;}#sk-container-id-6 input.sk-hidden--visually {border: 0;clip: rect(1px 1px 1px 1px);clip: rect(1px, 1px, 1px, 1px);height: 1px;margin: -1px;overflow: hidden;padding: 0;position: absolute;width: 1px;}#sk-container-id-6 div.sk-estimator {font-family: monospace;background-color: #f0f8ff;border: 1px dotted black;border-radius: 0.25em;box-sizing: border-box;margin-bottom: 0.5em;}#sk-container-id-6 div.sk-estimator:hover {background-color: #d4ebff;}#sk-container-id-6 div.sk-parallel-item::after {content: \"\";width: 100%;border-bottom: 1px solid gray;flex-grow: 1;}#sk-container-id-6 div.sk-label:hover label.sk-toggleable__label {background-color: #d4ebff;}#sk-container-id-6 div.sk-serial::before {content: \"\";position: absolute;border-left: 1px solid gray;box-sizing: border-box;top: 0;bottom: 0;left: 50%;z-index: 0;}#sk-container-id-6 div.sk-serial {display: flex;flex-direction: column;align-items: center;background-color: white;padding-right: 0.2em;padding-left: 0.2em;position: relative;}#sk-container-id-6 div.sk-item {position: relative;z-index: 1;}#sk-container-id-6 div.sk-parallel {display: flex;align-items: stretch;justify-content: center;background-color: white;position: relative;}#sk-container-id-6 div.sk-item::before, #sk-container-id-6 div.sk-parallel-item::before {content: \"\";position: absolute;border-left: 1px solid gray;box-sizing: border-box;top: 0;bottom: 0;left: 50%;z-index: -1;}#sk-container-id-6 div.sk-parallel-item {display: flex;flex-direction: column;z-index: 1;position: relative;background-color: white;}#sk-container-id-6 div.sk-parallel-item:first-child::after {align-self: flex-end;width: 50%;}#sk-container-id-6 div.sk-parallel-item:last-child::after {align-self: flex-start;width: 50%;}#sk-container-id-6 div.sk-parallel-item:only-child::after {width: 0;}#sk-container-id-6 div.sk-dashed-wrapped {border: 1px dashed gray;margin: 0 0.4em 0.5em 0.4em;box-sizing: border-box;padding-bottom: 0.4em;background-color: white;}#sk-container-id-6 div.sk-label label {font-family: monospace;font-weight: bold;display: inline-block;line-height: 1.2em;}#sk-container-id-6 div.sk-label-container {text-align: center;}#sk-container-id-6 div.sk-container {/* jupyter's `normalize.less` sets `[hidden] { display: none; }` but bootstrap.min.css set `[hidden] { display: none !important; }` so we also need the `!important` here to be able to override the default hidden behavior on the sphinx rendered scikit-learn.org. See: https://github.com/scikit-learn/scikit-learn/issues/21755 */display: inline-block !important;position: relative;}#sk-container-id-6 div.sk-text-repr-fallback {display: none;}</style><div id=\"sk-container-id-6\" class=\"sk-top-container\"><div class=\"sk-text-repr-fallback\"><pre>GridSearchCV(cv=5, estimator=LogisticRegression(max_iter=10000),\n",
              "             param_grid={&#x27;C&#x27;: [0.001, 0.01, 0.1, 1, 10, 100, 1000, 10000],\n",
              "                         &#x27;penalty&#x27;: [&#x27;l2&#x27;, &#x27;l1&#x27;],\n",
              "                         &#x27;solver&#x27;: [&#x27;liblinear&#x27;, &#x27;saga&#x27;]},\n",
              "             scoring=make_scorer(f1_score))</pre><b>In a Jupyter environment, please rerun this cell to show the HTML representation or trust the notebook. <br />On GitHub, the HTML representation is unable to render, please try loading this page with nbviewer.org.</b></div><div class=\"sk-container\" hidden><div class=\"sk-item sk-dashed-wrapped\"><div class=\"sk-label-container\"><div class=\"sk-label sk-toggleable\"><input class=\"sk-toggleable__control sk-hidden--visually\" id=\"sk-estimator-id-16\" type=\"checkbox\" ><label for=\"sk-estimator-id-16\" class=\"sk-toggleable__label sk-toggleable__label-arrow\">GridSearchCV</label><div class=\"sk-toggleable__content\"><pre>GridSearchCV(cv=5, estimator=LogisticRegression(max_iter=10000),\n",
              "             param_grid={&#x27;C&#x27;: [0.001, 0.01, 0.1, 1, 10, 100, 1000, 10000],\n",
              "                         &#x27;penalty&#x27;: [&#x27;l2&#x27;, &#x27;l1&#x27;],\n",
              "                         &#x27;solver&#x27;: [&#x27;liblinear&#x27;, &#x27;saga&#x27;]},\n",
              "             scoring=make_scorer(f1_score))</pre></div></div></div><div class=\"sk-parallel\"><div class=\"sk-parallel-item\"><div class=\"sk-item\"><div class=\"sk-label-container\"><div class=\"sk-label sk-toggleable\"><input class=\"sk-toggleable__control sk-hidden--visually\" id=\"sk-estimator-id-17\" type=\"checkbox\" ><label for=\"sk-estimator-id-17\" class=\"sk-toggleable__label sk-toggleable__label-arrow\">estimator: LogisticRegression</label><div class=\"sk-toggleable__content\"><pre>LogisticRegression(max_iter=10000)</pre></div></div></div><div class=\"sk-serial\"><div class=\"sk-item\"><div class=\"sk-estimator sk-toggleable\"><input class=\"sk-toggleable__control sk-hidden--visually\" id=\"sk-estimator-id-18\" type=\"checkbox\" ><label for=\"sk-estimator-id-18\" class=\"sk-toggleable__label sk-toggleable__label-arrow\">LogisticRegression</label><div class=\"sk-toggleable__content\"><pre>LogisticRegression(max_iter=10000)</pre></div></div></div></div></div></div></div></div></div></div>"
            ]
          },
          "metadata": {},
          "execution_count": 119
        }
      ]
    },
    {
      "cell_type": "code",
      "source": [
        "# Print best hyperparameters and F1 score\n",
        "print(\"\\t Banknote Data Set: \")\n",
        "print(\"Best Hyperparameters: \", log_grid_search_banknote.best_params_)\n",
        "print(\"Best F1 Score: \", log_grid_search_banknote.best_score_)\n",
        "\n",
        "print(\"\\n\\t Occupancy Data Set: \")\n",
        "print(\"Best Hyperparameters: \", log_grid_search_occupancy.best_params_)\n",
        "print(\"Best F1 Score: \", log_grid_search_occupancy.best_score_)"
      ],
      "metadata": {
        "colab": {
          "base_uri": "https://localhost:8080/"
        },
        "id": "XXPUhIsIptn9",
        "outputId": "904d98af-0d0d-40fa-fd26-b93c97f704b7"
      },
      "execution_count": null,
      "outputs": [
        {
          "output_type": "stream",
          "name": "stdout",
          "text": [
            "\t Banknote Data Set: \n",
            "Best Hyperparameters:  {'C': 100, 'penalty': 'l1', 'solver': 'liblinear'}\n",
            "Best F1 Score:  0.9916771803099673\n",
            "\n",
            "\t Occupancy Data Set: \n",
            "Best Hyperparameters:  {'C': 0.001, 'penalty': 'l1', 'solver': 'saga'}\n",
            "Best F1 Score:  0.9677440928347621\n"
          ]
        }
      ]
    },
    {
      "cell_type": "markdown",
      "source": [
        "###Suport Vector Machine (SVM)\n",
        "\n"
      ],
      "metadata": {
        "id": "FWIDm_i8qwgB"
      }
    },
    {
      "cell_type": "code",
      "source": [
        "# Define the SVM classifier\n",
        "model_svm_banknote = SVC(max_iter=10000)\n",
        "model_svm_occupancy = SVC(max_iter=10000)\n",
        "\n",
        "# Define the parameter grid\n",
        "param_grid = {'C': [0.01, 0.1, 1, 10, 100], \n",
        "              'kernel': ['rbf',],#'sigmoid','poly','linear'\n",
        "              'gamma': [0.1, 1, 10, 100]}\n",
        "\n",
        "# Define the GridSearchCV object\n",
        "svm_grid_search_banknote= GridSearchCV(model_svm_banknote, param_grid, cv=5, scoring=f1)\n",
        "svm_grid_search_occupancy = GridSearchCV(model_svm_occupancy, param_grid, cv=5, scoring=f1)\n",
        "\n",
        "# Fit the GridSearchCV object to the data\n",
        "svm_grid_search_banknote.fit(df_banknote_transformed, y_train_banknote)\n",
        "svm_grid_search_occupancy.fit(df_occupancy_transformed, train_o[\"Occupancy\"])\n",
        "\n",
        "# Print the best hyperparameters\n",
        "print(\"\\t Banknote Data Set: \")\n",
        "print(\"Best hyperparameters: \", svm_grid_search_banknote.best_params_)\n",
        "print(\"Best F1 Score: \", svm_grid_search_banknote.best_score_)\n",
        "\n",
        "print(\"\\n\\t Occupancy Data Set: \")\n",
        "print(\"Best hyperparameters: \", svm_grid_search_occupancy.best_params_)\n",
        "print(\"Best F1 Score: \", svm_grid_search_occupancy.best_score_)"
      ],
      "metadata": {
        "colab": {
          "base_uri": "https://localhost:8080/"
        },
        "id": "xw-QKPhLrFm3",
        "outputId": "e60bfa96-baea-499d-e796-21fc4553c7e4"
      },
      "execution_count": null,
      "outputs": [
        {
          "output_type": "stream",
          "name": "stdout",
          "text": [
            "\t Banknote Data Set: \n",
            "Best hyperparameters:  {'C': 1, 'gamma': 10, 'kernel': 'rbf'}\n",
            "Best F1 Score:  1.0\n",
            "\n",
            "\t Occupancy Data Set: \n",
            "Best hyperparameters:  {'C': 1, 'gamma': 0.1, 'kernel': 'rbf'}\n",
            "Best F1 Score:  0.9554811142205516\n"
          ]
        }
      ]
    },
    {
      "cell_type": "markdown",
      "source": [
        "###K-Nearest Neighbor (KNN)"
      ],
      "metadata": {
        "id": "kVFdGRI_ttL9"
      }
    },
    {
      "cell_type": "code",
      "source": [
        "# Define the KNN classifier\n",
        "knn_banknote = KNeighborsClassifier()\n",
        "knn_occupancy = KNeighborsClassifier()\n",
        "\n",
        "# Define the parameter grid\n",
        "param_grid = {'n_neighbors': [3, 5, 7, 9], \n",
        "              'weights': ['uniform', 'distance'],\n",
        "              'metric': ['euclidean', 'manhattan']\n",
        "              }\n",
        "\n",
        "# Define the GridSearchCV object\n",
        "knn_grid_search_banknote = GridSearchCV(knn_banknote, param_grid, cv=5, scoring=f1)\n",
        "knn_grid_search_occupancy = GridSearchCV(knn_occupancy, param_grid, cv=5, scoring=f1)\n",
        "\n",
        "# Fit the GridSearchCV object to the data\n",
        "knn_grid_search_banknote.fit(df_banknote_transformed, y_train_banknote)\n",
        "knn_grid_search_occupancy.fit(df_occupancy_transformed, train_o[\"Occupancy\"])\n",
        "\n",
        "# Print the best hyperparameters\n",
        "print(\"\\t Banknote Data Set: \")\n",
        "print(\"Best hyperparameters: \", knn_grid_search_banknote.best_params_)\n",
        "print(\"Best F1 Score: \", knn_grid_search_banknote.best_score_)\n",
        "\n",
        "print(\"\\n\\t Occupancy Data Set: \")\n",
        "print(\"Best hyperparameters: \", knn_grid_search_occupancy.best_params_)\n",
        "print(\"Best F1 Score: \", knn_grid_search_occupancy.best_score_)"
      ],
      "metadata": {
        "colab": {
          "base_uri": "https://localhost:8080/"
        },
        "id": "4i5juKXTr7aU",
        "outputId": "77baa5fe-e580-4216-fca9-0f1fbc6a2f73"
      },
      "execution_count": null,
      "outputs": [
        {
          "output_type": "stream",
          "name": "stdout",
          "text": [
            "\t Banknote Data Set: \n",
            "Best hyperparameters:  {'metric': 'euclidean', 'n_neighbors': 3, 'weights': 'uniform'}\n",
            "Best F1 Score:  0.9980099502487562\n",
            "\n",
            "\t Occupancy Data Set: \n",
            "Best hyperparameters:  {'metric': 'euclidean', 'n_neighbors': 3, 'weights': 'uniform'}\n",
            "Best F1 Score:  0.9818181818181818\n"
          ]
        }
      ]
    },
    {
      "cell_type": "markdown",
      "source": [
        "###Decision Tree Classifier"
      ],
      "metadata": {
        "id": "hM5WNPRctzc4"
      }
    },
    {
      "cell_type": "code",
      "source": [
        "# Define the Decision Tree classifier\n",
        "dtc_banknote = DecisionTreeClassifier()\n",
        "dtc_occupancy = DecisionTreeClassifier()\n",
        "\n",
        "# Define the parameter grid\n",
        "param_grid = {'max_depth': [5, 10, 15, 20], \n",
        "              'min_samples_split': [2, 5, 10, 15, 20]}\n",
        "\n",
        "# Define the GridSearchCV object\n",
        "dtc_grid_search_banknote = GridSearchCV(dtc_banknote, param_grid, cv=5, scoring=f1)\n",
        "dtc_grid_search_occupancy = GridSearchCV(dtc_occupancy, param_grid, cv=5, scoring=f1)\n",
        "\n",
        "# Fit the GridSearchCV object to the data\n",
        "dtc_grid_search_banknote.fit(df_banknote_transformed, y_train_banknote)\n",
        "dtc_grid_search_occupancy.fit(df_occupancy_transformed, train_o[\"Occupancy\"])\n",
        "\n",
        "# Print the best hyperparameterssvm\n",
        "print(\"\\tBest Hyperparameters Banknote Data Set: \")\n",
        "print(\"Best hyperparameters: \", dtc_grid_search_banknote.best_params_)\n",
        "print(\"Best F1 Score: \", dtc_grid_search_banknote.best_score_)\n",
        "\n",
        "print(\"\\n\\tBest Hyperparameters Occupancy Data Set: \")\n",
        "print(\"Best hyperparameters: \", dtc_grid_search_occupancy.best_params_)\n",
        "print(\"Best F1 Score: \", dtc_grid_search_occupancy.best_score_)"
      ],
      "metadata": {
        "colab": {
          "base_uri": "https://localhost:8080/"
        },
        "id": "mEcQjWYktzHv",
        "outputId": "8d4ba0ff-dbe2-4d6f-e82c-dc9113aa9ed6"
      },
      "execution_count": null,
      "outputs": [
        {
          "output_type": "stream",
          "name": "stdout",
          "text": [
            "\tBest Hyperparameters Banknote Data Set: \n",
            "Best hyperparameters:  {'max_depth': 10, 'min_samples_split': 2}\n",
            "Best F1 Score:  0.9844421587833387\n",
            "\n",
            "\tBest Hyperparameters Occupancy Data Set: \n",
            "Best hyperparameters:  {'max_depth': 5, 'min_samples_split': 2}\n",
            "Best F1 Score:  0.7176247467206485\n"
          ]
        }
      ]
    },
    {
      "cell_type": "markdown",
      "source": [
        "We just found the best parameters for each model, therefore, the next step is to evaluate the models."
      ],
      "metadata": {
        "id": "biHn1b0luhv-"
      }
    },
    {
      "cell_type": "markdown",
      "source": [
        "#Model Evaluation\n",
        "\n",
        "We have the best parameters, nevertheless, we also want the best model, that is why we are implementing cross-validation. \n",
        "\n",
        "To avoid overfitting and make sure that the results are independent from the partion we made (training and testing), we use cross-validation, a thecnique that uses different portions of the dataset to train and test the model on different iterations. It also let us assess the skill of machine learning models, to be able to choose the best. \n",
        "\n",
        "First we evaluate all the models with the testing set, and then we evaluate the best models with the validation set."
      ],
      "metadata": {
        "id": "VdC_F2lMuwzJ"
      }
    },
    {
      "cell_type": "markdown",
      "source": [
        "##Model Evaluation with testing set\n",
        "\n",
        "\n",
        "\n"
      ],
      "metadata": {
        "id": "HMGK6s5xy2DK"
      }
    },
    {
      "cell_type": "markdown",
      "source": [
        "###Logistic Regression"
      ],
      "metadata": {
        "id": "pmv_b78Sy9d_"
      }
    },
    {
      "cell_type": "code",
      "source": [
        "model_logistic_reg_banknote = LogisticRegression(C=100,penalty = 'l1', solver= 'liblinear',max_iter=10000, random_state= 42)\n",
        "model_logistic_reg_occupancy = LogisticRegression(max_iter=10000,C= 0.001, penalty= 'l1', solver= 'saga')\n",
        "\n",
        "model_logistic_reg_banknote.fit(df_banknote_transformed, y_train_banknote)\n",
        "model_logistic_reg_occupancy.fit(df_occupancy_transformed, train_o[\"Occupancy\"])\n",
        "\n",
        "log_predictions_banknote = model_logistic_reg_banknote.predict(df_banknote_transformed_test)\n",
        "log_predictions_occupancy = model_logistic_reg_occupancy.predict(df_occupancy_transformed_test1)\n",
        "\n",
        "print(\"Logistic Regression Banknote Data Set: \")\n",
        "print(\"F1 Score: \", f1_score(y_test_banknote, log_predictions_banknote))\n",
        "print(\"Accuracy Score: \", accuracy_score(y_test_banknote, log_predictions_banknote))\n",
        "print(\"Precision Score: \", precision_score(y_test_banknote, log_predictions_banknote))\n",
        "print(\"Recall Score: \", recall_score(y_test_banknote, log_predictions_banknote))\n",
        "\n",
        "print(\"\\nLogistic Regression Occupancy Data Set: \")\n",
        "print(\"F1 Score: \", f1_score(test1_o[\"Occupancy\"], log_predictions_occupancy))\n",
        "print(\"Accuracy Score: \", accuracy_score(test1_o[\"Occupancy\"], log_predictions_occupancy))\n",
        "print(\"Precision Score: \", precision_score(test1_o[\"Occupancy\"], log_predictions_occupancy))\n",
        "print(\"Recall Score: \", recall_score(test1_o[\"Occupancy\"], log_predictions_occupancy))"
      ],
      "metadata": {
        "colab": {
          "base_uri": "https://localhost:8080/"
        },
        "id": "qFf8uyP3y-u6",
        "outputId": "abee687f-b463-4ca0-acb0-3c78545537b5"
      },
      "execution_count": null,
      "outputs": [
        {
          "output_type": "stream",
          "name": "stdout",
          "text": [
            "Logistic Regression Banknote Data Set: \n",
            "F1 Score:  0.9787234042553192\n",
            "Accuracy Score:  0.9782608695652174\n",
            "Precision Score:  0.971830985915493\n",
            "Recall Score:  0.9857142857142858\n",
            "\n",
            "Logistic Regression Occupancy Data Set: \n",
            "F1 Score:  0.9714285714285715\n",
            "Accuracy Score:  0.9786116322701689\n",
            "Precision Score:  0.9472140762463344\n",
            "Recall Score:  0.9969135802469136\n"
          ]
        }
      ]
    },
    {
      "cell_type": "markdown",
      "source": [
        "###SVM"
      ],
      "metadata": {
        "id": "X4tAbZXqy_UN"
      }
    },
    {
      "cell_type": "code",
      "source": [
        "model_svm_banknote = SVC(C= 1, gamma= 10, kernel= 'rbf', max_iter=10000)\n",
        "model_svm_occupancy = SVC(C= 1, gamma= 0.1, kernel= 'rbf', max_iter=10000)\n",
        "\n",
        "model_svm_banknote.fit(df_banknote_transformed, y_train_banknote)\n",
        "model_svm_occupancy.fit(df_occupancy_transformed, train_o[\"Occupancy\"])\n",
        "\n",
        "svm_predictions_banknote = model_svm_banknote.predict(df_banknote_transformed_test)\n",
        "svm_predictions_occupancy = model_svm_occupancy.predict(df_occupancy_transformed_test1)\n",
        "\n",
        "print(\"SVM Banknote Data Set: \")\n",
        "print(\"F1 Score: \", f1_score(y_test_banknote, svm_predictions_banknote))\n",
        "print(\"Accuracy: \", accuracy_score(y_test_banknote, svm_predictions_banknote))\n",
        "print(\"Precision: \", precision_score(y_test_banknote, svm_predictions_banknote))\n",
        "print(\"recall: \", recall_score(y_test_banknote, svm_predictions_banknote))\n",
        "\n",
        "print(\"\\nSVM Occupancy Data Set: \")\n",
        "print(\"F1 Score: \", f1_score(test1_o[\"Occupancy\"], svm_predictions_occupancy))\n",
        "print(\"Accuracy: \", accuracy_score(test1_o[\"Occupancy\"], svm_predictions_occupancy))\n",
        "print(\"Precision: \", precision_score(test1_o[\"Occupancy\"], svm_predictions_occupancy))\n",
        "print(\"recall: \", recall_score(test1_o[\"Occupancy\"], svm_predictions_occupancy))"
      ],
      "metadata": {
        "colab": {
          "base_uri": "https://localhost:8080/"
        },
        "id": "wokAeJq-zHq6",
        "outputId": "79fb792e-6a87-48bc-dac2-7c4fb2b57f88"
      },
      "execution_count": null,
      "outputs": [
        {
          "output_type": "stream",
          "name": "stdout",
          "text": [
            "SVM Banknote Data Set: \n",
            "F1 Score:  1.0\n",
            "Accuracy:  1.0\n",
            "Precision:  1.0\n",
            "recall:  1.0\n",
            "\n",
            "SVM Occupancy Data Set: \n",
            "F1 Score:  0.9603567888999008\n",
            "Accuracy:  0.9699812382739212\n",
            "Precision:  0.9263862332695985\n",
            "recall:  0.9969135802469136\n"
          ]
        }
      ]
    },
    {
      "cell_type": "markdown",
      "source": [
        "###KNN"
      ],
      "metadata": {
        "id": "hl16f4SXzIC1"
      }
    },
    {
      "cell_type": "code",
      "source": [
        "knn_banknote = KNeighborsClassifier(metric= 'euclidean', n_neighbors= 3, weights= 'uniform')\n",
        "knn_occupancy = KNeighborsClassifier(metric= 'euclidean', n_neighbors= 9, weights= 'uniform')\n",
        "\n",
        "knn_banknote.fit(df_banknote_transformed, y_train_banknote)\n",
        "knn_occupancy.fit(df_occupancy_transformed, train_o[\"Occupancy\"])\n",
        "\n",
        "knn_predictions_banknote = knn_banknote.predict(df_banknote_transformed_test)\n",
        "knn_predictions_occupancy = knn_occupancy.predict(df_occupancy_transformed_test1)\n",
        "\n",
        "print(\"KNN Banknote Data Set: \")\n",
        "print(\"F1 Score: \", f1_score(y_test_banknote, knn_predictions_banknote))\n",
        "print(\"Accuracy: \", accuracy_score(y_test_banknote, knn_predictions_banknote))\n",
        "print(\"Precision: \", precision_score(y_test_banknote, knn_predictions_banknote))\n",
        "print(\"recall: \", recall_score(y_test_banknote, knn_predictions_banknote))\n",
        "\n",
        "print(\"\\nKNN Occupancy Data Set: \")\n",
        "print(\"F1 Score: \", f1_score(test1_o[\"Occupancy\"], knn_predictions_occupancy))\n",
        "print(\"Accuracy: \", accuracy_score(test1_o[\"Occupancy\"], knn_predictions_occupancy))\n",
        "print(\"Precision: \", precision_score(test1_o[\"Occupancy\"], knn_predictions_occupancy))\n",
        "print(\"recall: \", recall_score(test1_o[\"Occupancy\"], knn_predictions_occupancy))"
      ],
      "metadata": {
        "colab": {
          "base_uri": "https://localhost:8080/"
        },
        "id": "gCc2vhzjzKzA",
        "outputId": "db69875f-2889-42c1-af56-cba1111e982a"
      },
      "execution_count": null,
      "outputs": [
        {
          "output_type": "stream",
          "name": "stdout",
          "text": [
            "KNN Banknote Data Set: \n",
            "F1 Score:  1.0\n",
            "Accuracy:  1.0\n",
            "Precision:  1.0\n",
            "recall:  1.0\n",
            "\n",
            "KNN Occupancy Data Set: \n",
            "F1 Score:  0.948125321006677\n",
            "Accuracy:  0.9621013133208255\n",
            "Precision:  0.9466666666666667\n",
            "recall:  0.9495884773662552\n"
          ]
        }
      ]
    },
    {
      "cell_type": "markdown",
      "source": [
        "###Decision Tree Classifier"
      ],
      "metadata": {
        "id": "X96ZWnyYzLAb"
      }
    },
    {
      "cell_type": "code",
      "source": [
        "dtc_banknote = DecisionTreeClassifier(max_depth= 20, min_samples_split= 2)\n",
        "dtc_occupancy = DecisionTreeClassifier(max_depth= 5, min_samples_split= 2)\n",
        "\n",
        "dtc_banknote.fit(df_banknote_transformed, y_train_banknote)\n",
        "dtc_occupancy.fit(df_occupancy_transformed, train_o[\"Occupancy\"])\n",
        "\n",
        "dtc_predictions_banknote = dtc_banknote.predict(df_banknote_transformed_test)\n",
        "dtc_predictions_occupancy = dtc_occupancy.predict(df_occupancy_transformed_test1)\n",
        "\n",
        "print(\"Decision Tree Banknote Data Set: \")\n",
        "print(\"F1 Score: \", f1_score(y_test_banknote, dtc_predictions_banknote))\n",
        "print(\"Accuracy: \", accuracy_score(y_test_banknote, dtc_predictions_banknote))\n",
        "print(\"Precision: \", precision_score(y_test_banknote, dtc_predictions_banknote))\n",
        "print(\"recall: \", recall_score(y_test_banknote, dtc_predictions_banknote))\n",
        "\n",
        "print(\"\\nDecision Tree Occupancy Data Set: \")\n",
        "print(\"F1 Score: \", f1_score(test1_o[\"Occupancy\"], dtc_predictions_occupancy))\n",
        "print(\"Accuracy: \", accuracy_score(test1_o[\"Occupancy\"], dtc_predictions_occupancy))\n",
        "print(\"Precision: \", precision_score(test1_o[\"Occupancy\"], dtc_predictions_occupancy))\n",
        "print(\"recall: \", recall_score(test1_o[\"Occupancy\"], dtc_predictions_occupancy))"
      ],
      "metadata": {
        "colab": {
          "base_uri": "https://localhost:8080/"
        },
        "id": "-hVOMmIzzOCv",
        "outputId": "54be49fb-bf23-41bd-eb50-686bb71c5741"
      },
      "execution_count": null,
      "outputs": [
        {
          "output_type": "stream",
          "name": "stdout",
          "text": [
            "Decision Tree Banknote Data Set: \n",
            "F1 Score:  0.9781021897810218\n",
            "Accuracy:  0.9782608695652174\n",
            "Precision:  1.0\n",
            "recall:  0.9571428571428572\n",
            "\n",
            "Decision Tree Occupancy Data Set: \n",
            "F1 Score:  0.7626076260762606\n",
            "Accuracy:  0.8551594746716698\n",
            "Precision:  0.9480122324159022\n",
            "recall:  0.6378600823045267\n"
          ]
        }
      ]
    },
    {
      "cell_type": "markdown",
      "source": [
        "In summary, all the above results can be seen in the following tables.\n"
      ],
      "metadata": {
        "id": "mKQCEejU7q15"
      }
    },
    {
      "cell_type": "code",
      "source": [
        "results_banknote = pd.DataFrame({'model':['Logistic Reg', \"SVM\", \"KNN\", \"Decision Tree\"], \n",
        "                    'f1_score':[f1_score(y_test_banknote, log_predictions_banknote), f1_score(y_test_banknote, svm_predictions_banknote), \n",
        "                                f1_score(y_test_banknote, knn_predictions_banknote), f1_score(y_test_banknote, dtc_predictions_banknote)],\n",
        "                    'precision_score':[precision_score(y_test_banknote, log_predictions_banknote), precision_score(y_test_banknote, svm_predictions_banknote),\n",
        "                                 precision_score(y_test_banknote, knn_predictions_banknote), precision_score(y_test_banknote, dtc_predictions_banknote)],\n",
        "                    'recall_score':[recall_score(y_test_banknote, log_predictions_banknote), recall_score(y_test_banknote, svm_predictions_banknote),\n",
        "                              recall_score(y_test_banknote, knn_predictions_banknote), recall_score(y_test_banknote, dtc_predictions_banknote)],\n",
        "                    'accuracy_score':[accuracy_score(y_test_banknote, log_predictions_banknote), accuracy_score(y_test_banknote, svm_predictions_banknote),\n",
        "                                accuracy_score(y_test_banknote, knn_predictions_banknote), accuracy_score(y_test_banknote, dtc_predictions_banknote)]})\n",
        "results_occupancy = pd.DataFrame({'model':['Logistic Reg', \"SVM\", \"KNN\", \"Decision Tree\"],\n",
        "                                  'f1_score':[f1_score(test1_o[\"Occupancy\"], log_predictions_occupancy), f1_score(test1_o[\"Occupancy\"], svm_predictions_occupancy),\n",
        "                                              f1_score(test1_o[\"Occupancy\"], knn_predictions_occupancy), f1_score(test1_o[\"Occupancy\"], dtc_predictions_occupancy)],\n",
        "                                  'precision_score':[precision_score(test1_o[\"Occupancy\"], log_predictions_occupancy), precision_score(test1_o[\"Occupancy\"], svm_predictions_occupancy),\n",
        "                                                     precision_score(test1_o[\"Occupancy\"], knn_predictions_occupancy), precision_score(test1_o[\"Occupancy\"], dtc_predictions_occupancy)],\n",
        "                                  'recall_score':[recall_score(test1_o[\"Occupancy\"], log_predictions_occupancy), recall_score(test1_o[\"Occupancy\"], svm_predictions_occupancy),\n",
        "                                                  recall_score(test1_o[\"Occupancy\"], knn_predictions_occupancy), recall_score(test1_o[\"Occupancy\"], dtc_predictions_occupancy)],\n",
        "                                  'accuracy_score':[accuracy_score(test1_o[\"Occupancy\"], log_predictions_occupancy), accuracy_score(test1_o[\"Occupancy\"], svm_predictions_occupancy),\n",
        "                                                    accuracy_score(test1_o[\"Occupancy\"],knn_predictions_occupancy), accuracy_score(test1_o[\"Occupancy\"], dtc_predictions_occupancy)]})\n",
        "                                                                   "
      ],
      "metadata": {
        "id": "45us0OKb7rMF"
      },
      "execution_count": null,
      "outputs": []
    },
    {
      "cell_type": "code",
      "source": [
        "print('Banknote Authentication')\n",
        "results_banknote.style.background_gradient(cmap='Reds',subset='f1_score')"
      ],
      "metadata": {
        "colab": {
          "base_uri": "https://localhost:8080/",
          "height": 175
        },
        "id": "EACV9wK89OVH",
        "outputId": "faea8196-f215-4fa8-98fa-3d7921cb1b32"
      },
      "execution_count": null,
      "outputs": [
        {
          "output_type": "execute_result",
          "data": {
            "text/plain": [
              "<pandas.io.formats.style.Styler at 0x7ff0b4b7c0d0>"
            ],
            "text/html": [
              "<style type=\"text/css\">\n",
              "#T_19573_row0_col1 {\n",
              "  background-color: #fff0e9;\n",
              "  color: #000000;\n",
              "}\n",
              "#T_19573_row1_col1, #T_19573_row2_col1 {\n",
              "  background-color: #67000d;\n",
              "  color: #f1f1f1;\n",
              "}\n",
              "#T_19573_row3_col1 {\n",
              "  background-color: #fff5f0;\n",
              "  color: #000000;\n",
              "}\n",
              "</style>\n",
              "<table id=\"T_19573\" class=\"dataframe\">\n",
              "  <thead>\n",
              "    <tr>\n",
              "      <th class=\"blank level0\" >&nbsp;</th>\n",
              "      <th id=\"T_19573_level0_col0\" class=\"col_heading level0 col0\" >model</th>\n",
              "      <th id=\"T_19573_level0_col1\" class=\"col_heading level0 col1\" >f1_score</th>\n",
              "      <th id=\"T_19573_level0_col2\" class=\"col_heading level0 col2\" >precision_score</th>\n",
              "      <th id=\"T_19573_level0_col3\" class=\"col_heading level0 col3\" >recall_score</th>\n",
              "      <th id=\"T_19573_level0_col4\" class=\"col_heading level0 col4\" >accuracy_score</th>\n",
              "    </tr>\n",
              "  </thead>\n",
              "  <tbody>\n",
              "    <tr>\n",
              "      <th id=\"T_19573_level0_row0\" class=\"row_heading level0 row0\" >0</th>\n",
              "      <td id=\"T_19573_row0_col0\" class=\"data row0 col0\" >Logistic Reg</td>\n",
              "      <td id=\"T_19573_row0_col1\" class=\"data row0 col1\" >0.978723</td>\n",
              "      <td id=\"T_19573_row0_col2\" class=\"data row0 col2\" >0.971831</td>\n",
              "      <td id=\"T_19573_row0_col3\" class=\"data row0 col3\" >0.985714</td>\n",
              "      <td id=\"T_19573_row0_col4\" class=\"data row0 col4\" >0.978261</td>\n",
              "    </tr>\n",
              "    <tr>\n",
              "      <th id=\"T_19573_level0_row1\" class=\"row_heading level0 row1\" >1</th>\n",
              "      <td id=\"T_19573_row1_col0\" class=\"data row1 col0\" >SVM</td>\n",
              "      <td id=\"T_19573_row1_col1\" class=\"data row1 col1\" >1.000000</td>\n",
              "      <td id=\"T_19573_row1_col2\" class=\"data row1 col2\" >1.000000</td>\n",
              "      <td id=\"T_19573_row1_col3\" class=\"data row1 col3\" >1.000000</td>\n",
              "      <td id=\"T_19573_row1_col4\" class=\"data row1 col4\" >1.000000</td>\n",
              "    </tr>\n",
              "    <tr>\n",
              "      <th id=\"T_19573_level0_row2\" class=\"row_heading level0 row2\" >2</th>\n",
              "      <td id=\"T_19573_row2_col0\" class=\"data row2 col0\" >KNN</td>\n",
              "      <td id=\"T_19573_row2_col1\" class=\"data row2 col1\" >1.000000</td>\n",
              "      <td id=\"T_19573_row2_col2\" class=\"data row2 col2\" >1.000000</td>\n",
              "      <td id=\"T_19573_row2_col3\" class=\"data row2 col3\" >1.000000</td>\n",
              "      <td id=\"T_19573_row2_col4\" class=\"data row2 col4\" >1.000000</td>\n",
              "    </tr>\n",
              "    <tr>\n",
              "      <th id=\"T_19573_level0_row3\" class=\"row_heading level0 row3\" >3</th>\n",
              "      <td id=\"T_19573_row3_col0\" class=\"data row3 col0\" >Decision Tree</td>\n",
              "      <td id=\"T_19573_row3_col1\" class=\"data row3 col1\" >0.978102</td>\n",
              "      <td id=\"T_19573_row3_col2\" class=\"data row3 col2\" >1.000000</td>\n",
              "      <td id=\"T_19573_row3_col3\" class=\"data row3 col3\" >0.957143</td>\n",
              "      <td id=\"T_19573_row3_col4\" class=\"data row3 col4\" >0.978261</td>\n",
              "    </tr>\n",
              "  </tbody>\n",
              "</table>\n"
            ]
          },
          "metadata": {},
          "execution_count": 130
        }
      ]
    },
    {
      "cell_type": "code",
      "source": [
        "print('Occupancy Detection')\n",
        "results_occupancy.style.background_gradient(cmap='Reds',subset='f1_score')"
      ],
      "metadata": {
        "colab": {
          "base_uri": "https://localhost:8080/",
          "height": 192
        },
        "id": "V-f4bfxA9lqE",
        "outputId": "0b7e53bc-89de-456e-f0a7-4f5f74faa3e7"
      },
      "execution_count": null,
      "outputs": [
        {
          "output_type": "stream",
          "name": "stdout",
          "text": [
            "Occupancy Detection\n"
          ]
        },
        {
          "output_type": "execute_result",
          "data": {
            "text/plain": [
              "<pandas.io.formats.style.Styler at 0x7ff0b4b7d540>"
            ],
            "text/html": [
              "<style type=\"text/css\">\n",
              "#T_42732_row0_col1 {\n",
              "  background-color: #67000d;\n",
              "  color: #f1f1f1;\n",
              "}\n",
              "#T_42732_row1_col1 {\n",
              "  background-color: #800610;\n",
              "  color: #f1f1f1;\n",
              "}\n",
              "#T_42732_row2_col1 {\n",
              "  background-color: #9d0d14;\n",
              "  color: #f1f1f1;\n",
              "}\n",
              "#T_42732_row3_col1 {\n",
              "  background-color: #fff5f0;\n",
              "  color: #000000;\n",
              "}\n",
              "</style>\n",
              "<table id=\"T_42732\" class=\"dataframe\">\n",
              "  <thead>\n",
              "    <tr>\n",
              "      <th class=\"blank level0\" >&nbsp;</th>\n",
              "      <th id=\"T_42732_level0_col0\" class=\"col_heading level0 col0\" >model</th>\n",
              "      <th id=\"T_42732_level0_col1\" class=\"col_heading level0 col1\" >f1_score</th>\n",
              "      <th id=\"T_42732_level0_col2\" class=\"col_heading level0 col2\" >precision_score</th>\n",
              "      <th id=\"T_42732_level0_col3\" class=\"col_heading level0 col3\" >recall_score</th>\n",
              "      <th id=\"T_42732_level0_col4\" class=\"col_heading level0 col4\" >accuracy_score</th>\n",
              "    </tr>\n",
              "  </thead>\n",
              "  <tbody>\n",
              "    <tr>\n",
              "      <th id=\"T_42732_level0_row0\" class=\"row_heading level0 row0\" >0</th>\n",
              "      <td id=\"T_42732_row0_col0\" class=\"data row0 col0\" >Logistic Reg</td>\n",
              "      <td id=\"T_42732_row0_col1\" class=\"data row0 col1\" >0.971429</td>\n",
              "      <td id=\"T_42732_row0_col2\" class=\"data row0 col2\" >0.947214</td>\n",
              "      <td id=\"T_42732_row0_col3\" class=\"data row0 col3\" >0.996914</td>\n",
              "      <td id=\"T_42732_row0_col4\" class=\"data row0 col4\" >0.978612</td>\n",
              "    </tr>\n",
              "    <tr>\n",
              "      <th id=\"T_42732_level0_row1\" class=\"row_heading level0 row1\" >1</th>\n",
              "      <td id=\"T_42732_row1_col0\" class=\"data row1 col0\" >SVM</td>\n",
              "      <td id=\"T_42732_row1_col1\" class=\"data row1 col1\" >0.960357</td>\n",
              "      <td id=\"T_42732_row1_col2\" class=\"data row1 col2\" >0.926386</td>\n",
              "      <td id=\"T_42732_row1_col3\" class=\"data row1 col3\" >0.996914</td>\n",
              "      <td id=\"T_42732_row1_col4\" class=\"data row1 col4\" >0.969981</td>\n",
              "    </tr>\n",
              "    <tr>\n",
              "      <th id=\"T_42732_level0_row2\" class=\"row_heading level0 row2\" >2</th>\n",
              "      <td id=\"T_42732_row2_col0\" class=\"data row2 col0\" >KNN</td>\n",
              "      <td id=\"T_42732_row2_col1\" class=\"data row2 col1\" >0.948125</td>\n",
              "      <td id=\"T_42732_row2_col2\" class=\"data row2 col2\" >0.946667</td>\n",
              "      <td id=\"T_42732_row2_col3\" class=\"data row2 col3\" >0.949588</td>\n",
              "      <td id=\"T_42732_row2_col4\" class=\"data row2 col4\" >0.962101</td>\n",
              "    </tr>\n",
              "    <tr>\n",
              "      <th id=\"T_42732_level0_row3\" class=\"row_heading level0 row3\" >3</th>\n",
              "      <td id=\"T_42732_row3_col0\" class=\"data row3 col0\" >Decision Tree</td>\n",
              "      <td id=\"T_42732_row3_col1\" class=\"data row3 col1\" >0.762608</td>\n",
              "      <td id=\"T_42732_row3_col2\" class=\"data row3 col2\" >0.948012</td>\n",
              "      <td id=\"T_42732_row3_col3\" class=\"data row3 col3\" >0.637860</td>\n",
              "      <td id=\"T_42732_row3_col4\" class=\"data row3 col4\" >0.855159</td>\n",
              "    </tr>\n",
              "  </tbody>\n",
              "</table>\n"
            ]
          },
          "metadata": {},
          "execution_count": 131
        }
      ]
    },
    {
      "cell_type": "markdown",
      "source": [
        "These results let us conclude that, using the F1 escore as reference, the best models are:\n",
        "\n",
        "\n",
        "*   SVM and KNN for the Banknote Authentication dataset\n",
        "*   Logistic regression for the Occupancy Detection dataset\n",
        "\n"
      ],
      "metadata": {
        "id": "ZKzNp4_K-E1Z"
      }
    },
    {
      "cell_type": "markdown",
      "source": [
        "##Model Evaluation with validation set\n",
        "\n",
        "Now, with the best models that we found, we are going to evaluate again with the validation set. "
      ],
      "metadata": {
        "id": "2vl0rIq1_Igu"
      }
    },
    {
      "cell_type": "markdown",
      "source": [
        "###Banknote Authentication dataset"
      ],
      "metadata": {
        "id": "IT8OXokd_ged"
      }
    },
    {
      "cell_type": "code",
      "source": [
        "svm_predictions_valid_banknote = model_svm_banknote.predict(df_banknote_transformed_valid)\n",
        "knn_predictions_valid_banknote = knn_banknote.predict(df_banknote_transformed_valid)\n",
        "\n",
        "print(\"SVM Banknote Data Set: \")\n",
        "print(\"F1 Score: \", f1_score(y_valid_banknote, svm_predictions_valid_banknote))\n",
        "print(\"Accuracy: \", accuracy_score(y_valid_banknote, svm_predictions_valid_banknote))\n",
        "print(\"Precision: \", precision_score(y_valid_banknote, svm_predictions_valid_banknote))\n",
        "print(\"recall: \", recall_score(y_valid_banknote, svm_predictions_valid_banknote))\n",
        "\n",
        "print(\"\\nKNN Banknote Data Set: \")\n",
        "print(\"F1 Score: \", f1_score(y_valid_banknote, knn_predictions_valid_banknote))\n",
        "print(\"Accuracy: \", accuracy_score(y_valid_banknote, knn_predictions_valid_banknote))\n",
        "print(\"Precision: \", precision_score(y_valid_banknote, knn_predictions_valid_banknote))\n",
        "print(\"recall: \", recall_score(y_valid_banknote, knn_predictions_valid_banknote))"
      ],
      "metadata": {
        "colab": {
          "base_uri": "https://localhost:8080/"
        },
        "id": "IivyDR-u_fwv",
        "outputId": "fbd0c098-0fe6-404e-ed6d-f08baa2a49ff"
      },
      "execution_count": null,
      "outputs": [
        {
          "output_type": "stream",
          "name": "stdout",
          "text": [
            "SVM Banknote Data Set: \n",
            "F1 Score:  1.0\n",
            "Accuracy:  1.0\n",
            "Precision:  1.0\n",
            "recall:  1.0\n",
            "\n",
            "KNN Banknote Data Set: \n",
            "F1 Score:  1.0\n",
            "Accuracy:  1.0\n",
            "Precision:  1.0\n",
            "recall:  1.0\n"
          ]
        }
      ]
    },
    {
      "cell_type": "markdown",
      "source": [
        "###Occupancy Detection dataset"
      ],
      "metadata": {
        "id": "7rX5F3gl_zVZ"
      }
    },
    {
      "cell_type": "code",
      "source": [
        "log_reg_predictions_valid_occupancy = model_logistic_reg_occupancy.predict(df_occupancy_transformed_test2)\n",
        "\n",
        "print(\"Logistic Regression Occupancy Data Set: \")\n",
        "print(\"F1 Score: \", f1_score(test2_o[\"Occupancy\"], log_reg_predictions_valid_occupancy))\n",
        "print(\"Accuracy: \", accuracy_score(test2_o[\"Occupancy\"], log_reg_predictions_valid_occupancy))\n",
        "print(\"Precision: \", precision_score(test2_o[\"Occupancy\"], log_reg_predictions_valid_occupancy))\n",
        "print(\"recall: \", recall_score(test2_o[\"Occupancy\"], log_reg_predictions_valid_occupancy))"
      ],
      "metadata": {
        "colab": {
          "base_uri": "https://localhost:8080/"
        },
        "id": "m7tNe7ZH_zw2",
        "outputId": "97653c42-ae27-4895-abfe-9a4c2eba9316"
      },
      "execution_count": null,
      "outputs": [
        {
          "output_type": "stream",
          "name": "stdout",
          "text": [
            "Logistic Regression Occupancy Data Set: \n",
            "F1 Score:  0.9840579710144928\n",
            "Accuracy:  0.9932321575061526\n",
            "Precision:  0.9741750358680057\n",
            "recall:  0.9941434846266471\n"
          ]
        }
      ]
    },
    {
      "cell_type": "markdown",
      "source": [
        "In both cases, we get excelent F1 scores, which let us confirm that the models selected have a good performance. "
      ],
      "metadata": {
        "id": "x9tUtTGXK0XH"
      }
    },
    {
      "cell_type": "markdown",
      "source": [
        "#Conclusions\n",
        "\n",
        "After all this process we can say that, comparing the models with the F1 score, the best models for the Banknote Authentication dataset are Support Vector Machine and K-Nearest Neighbor, both scored 1, and for the Occupancy Detection dataset, the best model is Logistic Regression, scored 0.98. in the two cases, the models give good results both in testing and validation."
      ],
      "metadata": {
        "id": "GoogaMVrAFwE"
      }
    },
    {
      "cell_type": "markdown",
      "source": [
        "#Referencias \n",
        "\n",
        "https://scikit-learn.org/stable/modules/generated/sklearn.metrics.f1_score.html\n",
        "\n",
        "https://scikit-learn.org/stable/modules/cross_validation.html\n",
        "\n",
        "https://learn.g2.com/cross-validation\n",
        "\n",
        "https://www.geeksforgeeks.org/svm-hyperparameter-tuning-using-gridsearchcv-ml/"
      ],
      "metadata": {
        "id": "kxZ_y_pBvJw4"
      }
    }
  ]
}