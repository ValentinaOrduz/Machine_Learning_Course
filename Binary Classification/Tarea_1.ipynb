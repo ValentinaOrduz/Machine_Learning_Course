{
  "nbformat": 4,
  "nbformat_minor": 0,
  "metadata": {
    "colab": {
      "provenance": []
    },
    "kernelspec": {
      "name": "python3",
      "display_name": "Python 3"
    },
    "language_info": {
      "name": "python"
    }
  },
  "cells": [
    {
      "cell_type": "code",
      "source": [],
      "metadata": {
        "id": "G6J06nTGuU6R"
      },
      "execution_count": null,
      "outputs": []
    },
    {
      "cell_type": "markdown",
      "source": [
        "# SVM Iplementation for Classifying Datasets\n",
        "\n",
        "In this notebook we are going to classify the next datasets using SVM:\n",
        "https://archive.ics.uci.edu/ml/datasets/banknote+authentication\n",
        "\n",
        "\n",
        "https://archive.ics.uci.edu/ml/datasets/Occupancy+Detection+\n",
        "\n",
        "For that we are going to divide the process in the next six steps:\n",
        "\n",
        "1) Specify which Machine Learning problem are we solving.\n",
        "\n",
        "2) Provide a short summary of the features and the labels we are working on.\n",
        "\n",
        "3) Answer the following questions: a) Are these datasets linearly separable? b) Are these datasets randomly chosen and c) The sample size is enough to guarantee generalization.\n",
        "\n",
        "4) Provide an explanation how and why the code is working. \n",
        "\n",
        "5) Show some examples to illustrate that the method is working properly.\n",
        "\n",
        "6) Provide quantitative evidence for generalization using the provided dataset.\n"
      ],
      "metadata": {
        "id": "s-y8Kil2snGk"
      }
    },
    {
      "cell_type": "markdown",
      "source": [
        "# 1) Introduction\n",
        "\n",
        "The idea of this notebook is to solve a supervised learning problem that consist of a binary classification task. We have a dataset with features and two labels and the objective is to give the appropiate label to data not seen before. We are going to work with two different dataset, so first we are going to understand each one.\n",
        "\n",
        "\n",
        "\n",
        "# Banknote Authentication Data Set\n",
        "\n",
        "2) The first one is extracted from images of genuine and forged banknotes and we want and algorithm that let us decide if a new banknote is authentic or not, that is, the labels are \"genuine\" or \"forged\".\n",
        "\n",
        "In this dataset there are 1372 instances and 5 attributes or features but the last one is exactly the label we want to predict, therefore we have 4 features:\n",
        "\n",
        "*   Variance of Wavelet Transformed image (continuous)\n",
        "*   Skewness of Wavelet Transformed image (continuous)\n",
        "*   Curtosis of Wavelet Transformed image (continuous)\n",
        "*   Entropy of image (continuous)\n",
        "\n",
        "To better understand the features let's start by looking what the Wavelet Transformed is. \n",
        "\n",
        "Wavelet transformed is a tool that allows us to make a detailed analysis of signals or sounds, or in the case of images, it allows us to filter out the noise. In general a Wavelet transformed decompose a signal using scaled and shifted versions of an specific wavelet (a wavelet is a signal or a waveform that has specific properties).\n",
        "\n",
        "La Transformada Wavelet Discreta (DWT) transforma un vector de datos de longitud n\n",
        "en otro vector de coeficientes wavelets de longitud n, usando un conjunto de n funciones bases\n",
        "ortogonales llamadas wavelets. \n",
        "file:///C:/Users/valeo/Downloads/22-Texto%20del%20art%C3%ADculo-102-1-10-20130820.pdf\n",
        "\n",
        "\n",
        "On the other hand, entropy is a statistical measure of randomness that can be used to characterize the texture of an image.\n",
        "\n",
        "\n",
        "3) Now we are going to estudy the data set.\n",
        "\n",
        "a) Linearly separable \n",
        "\n",
        "b) Randomly chosen \n",
        "\n",
        "c) Guarantee generalization \n",
        "\n",
        "\n",
        "#Occupancy Detection Data Set\n",
        "\n",
        "2) The second data set was obtained from  time stamped pictures that were taken every minute. In this case we want to decide betwen de labels \"occupied\" 0 or \"not occupied\" 1.\n",
        "\n",
        "There are 20560 instances and 6 attributes or features: \n",
        "\n",
        "\n",
        "\n",
        "*   date time year-month-day hour:minute:second\n",
        "*   Temperature, in Celsius\n",
        "*   Relative Humidity, %\n",
        "*   Light, in Lux\n",
        "*   CO2, in ppm\n",
        "*   Humidity Ratio, Derived quantity from temperature and relative humidity, in kgwater-vapor/kg-air\n",
        "\n",
        "In the dataset again appears one more instance that matches with the labels we want 0 or 1, 0 for not occupied, 1 for occupied status.\n",
        "\n",
        "3) \n",
        "\n",
        "a)\n",
        "\n",
        "b)\n",
        "\n",
        "c)\n",
        "\n",
        "\n",
        "\n",
        "\n",
        "\n",
        "\n",
        "\n"
      ],
      "metadata": {
        "id": "_eyZlfGiH4X-"
      }
    },
    {
      "cell_type": "code",
      "source": [
        "#Linearly separable \n"
      ],
      "metadata": {
        "id": "xyfYIla2LWu_"
      },
      "execution_count": null,
      "outputs": []
    },
    {
      "cell_type": "markdown",
      "source": [
        "#4) Model Explanation\n",
        "\n",
        " Next, we can found the code with some comments that explain how does the code works and after that a general explanation of why does it work."
      ],
      "metadata": {
        "id": "MQeasS-Qgk5g"
      }
    },
    {
      "cell_type": "code",
      "execution_count": null,
      "metadata": {
        "id": "5AOO-Ib6o_7U"
      },
      "outputs": [],
      "source": [
        "# https://pythonprogramming.net/svm-optimization-python-2-machine-learning-tutorial/?completed=/svm-optimization-python-machine-learning-tutorial/\n",
        "import matplotlib.pyplot as plt\n",
        "from matplotlib import style\n",
        "import numpy as np\n",
        "style.use('ggplot')\n",
        "\n",
        "class Support_Vector_Machine:\n",
        "    def __init__(self, visualization=True):\n",
        "        self.visualization = visualization\n",
        "        #We define the colors of the associated classes, where red is for the forged banknotes and blue for the genuine ones\n",
        "        self.colors = {1:'r',-1:'b'}\n",
        "        if self.visualization:\n",
        "            self.fig = plt.figure()\n",
        "            self.ax = self.fig.add_subplot(1,1,1)\n",
        "\n",
        "    # train (optimization part)\n",
        "    def fit(self, data):\n",
        "        self.data = data\n",
        "        # We define this dictionary to save the values { ||w||: [w,b] }\n",
        "        opt_dict = {}\n",
        "\n",
        "        # Transforms that we are going to apply to the vector w to optimize w\n",
        "        transforms = [[1,1],\n",
        "                      [-1,1],\n",
        "                      [-1,-1],\n",
        "                      [1,-1]]\n",
        "\n",
        "        #Reconstruction of the dataset (only the characteristic) where the first value is the label and then the vectors that represent the features, to take max and min feature value\n",
        "        #of the dataset take all the features\n",
        "        all_data = []\n",
        "        for yi in self.data:\n",
        "            for featureset in self.data[yi]:\n",
        "                for feature in featureset:\n",
        "                    all_data.append(feature)\n",
        "\n",
        "        self.max_feature_value = max(all_data)\n",
        "        self.min_feature_value = min(all_data)\n",
        "        all_data = None\n",
        "\n",
        "        # support vectors yi(xi.w+b) = 1\n",
        "\n",
        "        #We start looking a good value using big steps (0.1), after we find a good one we use smaller steps (0.01) and then we repeat the process \n",
        "        \n",
        "        step_sizes = [self.max_feature_value * 0.1,\n",
        "                      self.max_feature_value * 0.01,\n",
        "                      # point of expense:\n",
        "                      self.max_feature_value * 0.001,]\n",
        "\n",
        "        \n",
        "        \n",
        "        # extremely expensive\n",
        "        b_range_multiple = 5\n",
        "        # we dont need to take as small of steps \n",
        "        # with b as we do w\n",
        "        b_multiple = 5\n",
        "        # latest_optimum is going to be the first element in vector w\n",
        "        latest_optimum = self.max_feature_value*10\n",
        "\n",
        "\n",
        "        #We want the minimum magnitude of w and the maximum b\n",
        "\n",
        "        for step in step_sizes:\n",
        "            w = np.array([latest_optimum,latest_optimum])\n",
        "            # we can do this because convex\n",
        "            optimized = False\n",
        "            #While va a funcionar siempre que no esté optimizado, por eso en la anterior linea definimos optimized as false\n",
        "            while not optimized:\n",
        "              #we take b from -the maximum value to the maximum value in steps \n",
        "              #of 5 times the steps of w\n",
        "                for b in np.arange(-1*(self.max_feature_value*b_range_multiple),\n",
        "                                   self.max_feature_value*b_range_multiple,\n",
        "                                   step*b_multiple):\n",
        "                    for transformation in transforms:\n",
        "                      #We multiply w with the vectors of transformation component to component\n",
        "                        w_t = w*transformation\n",
        "                        found_option = True\n",
        "                        # weakest link in the SVM fundamentally\n",
        "                        # SMO attempts to fix this a bit\n",
        "                        # yi(xi.w+b) >= 1\n",
        "                        # \n",
        "                        # #### add a break here later..\n",
        "                        for i in self.data:\n",
        "                          #for all data we are going to verify, so if there is \n",
        "                          #at least one i that doesn't meet the condition, then we return false\n",
        "                            for xi in self.data[i]:\n",
        "                                #we only change the label's name\n",
        "                                yi=i\n",
        "                                # Verifiy constraints, if it doesn't meet the \n",
        "                                #condition then it doesn't save the value\n",
        "                                if not yi*(np.dot(w_t,xi)+b) >= 1:\n",
        "                                    found_option = False\n",
        "                                    \n",
        "                        if found_option:\n",
        "                            # Computes norm for the ones who meet the condition\n",
        "                            opt_dict[np.linalg.norm(w_t)] = [w_t,b]\n",
        "\n",
        "                #w da la pendiente de la recta y la distancia entre los soportes\n",
        "                #¿POR QUÉ? basta revisar los positivos para estudiar todas las posibles opciones, pues w<0 repiten casos que ya se vieron\n",
        "                if w[0] < 0:\n",
        "                  # it appears  \"Optimized a step\" when we finish the while of the first step\n",
        "                    optimized = True\n",
        "                    print('Optimized a step.')\n",
        "                else:\n",
        "                    w = w - step\n",
        "\n",
        "            #norms is vector of all the values of opt_dict organized from the smallest\n",
        "            #to the biggest, so norms[0] is going to be the smallest \n",
        "            #so we take the smallest w of the list and we use it to define latest_optimum that \n",
        "            #is going to be the new component of w\n",
        "            norms = sorted([n for n in opt_dict])\n",
        "            #||w|| : [w,b]\n",
        "            opt_choice = opt_dict[norms[0]] #el de norma más chiquita\n",
        "            self.w = opt_choice[0]\n",
        "            self.b = opt_choice[1]\n",
        "            #opt_choice[0] is w and opt_choice[0][0] is the fisrt component of w\n",
        "            latest_optimum = opt_choice[0][0]+step*2\n",
        "\n",
        "\n",
        "            \n",
        "            \n",
        "    #Gives the data to predict and returns the label of it\n",
        "    def predict(self,features):\n",
        "        # The classification depends on the sign of x.w+b (x:np.array(features) w:self.w  b:self.b)\n",
        "        classification = np.sign(np.dot(np.array(features),self.w)+self.b)\n",
        "    #We add two lines: if x.w+b is different from 0 then we mark it with a star of the corresponging color\n",
        "        if classification !=0 and self.visualization:\n",
        "            self.ax.scatter(features[0], features[1], s=200, marker='*', c=self.colors[classification])\n",
        "        return classification\n",
        "\n",
        "    #Now we define a function that let us see the data in the corresponding color and the decision boundary\n",
        "    def visualize(self):\n",
        "      [[self.ax.scatter(x[0],x[1],s=100,color=self.colors[i]) for x in data_dict[i]] for i in data_dict]\n",
        "      \n",
        "      def hyperplane(x,w,b):\n",
        "        return (-w[0]*x-b) / w[1]\n",
        "\n",
        "      #We define the graph domain depending on the smallest and biggest value of x\n",
        "      range = (self.min_feature_value*0.9,self.max_feature_value*1.1)\n",
        "      hyp_x_min=range[0]\n",
        "      hyp_x_max=range[1]\n",
        "\n",
        "      sv1=hyperplane(hyp_x_min, self.w, self.b)\n",
        "      sv2=hyperplane(hyp_x_max, self.w, self.b)\n",
        "      self.ax.plot([hyp_x_min,hyp_x_max],[sv1,sv2], \"g\")\n",
        "\n",
        "      plt.show()\n",
        "\n",
        "        \n",
        "\n"
      ]
    },
    {
      "cell_type": "markdown",
      "source": [
        "#5) Model Testing\n",
        "\n",
        " We are going to prove the code with the next data set that is linearly separable. "
      ],
      "metadata": {
        "id": "gItDXZ14cqlv"
      }
    },
    {
      "cell_type": "code",
      "source": [
        "#Small example of dataset with the two labels 1 and -1        \n",
        "data_dict = {-1:np.array([[1,7],\n",
        "                          [2,8],\n",
        "                          [3,8],]),\n",
        "             \n",
        "             1:np.array([[5,1],\n",
        "                         [6,-1],\n",
        "                         [7,3],])}\n",
        "\n",
        "svm1 = Support_Vector_Machine()\n",
        "svm1.fit(data=data_dict)\n",
        "svm1.visualize()\n",
        "\n",
        "#Let's see the grah of the last dataset \n",
        "#plt.scatter(data_dict[-1][:, 0], data_dict[-1][:, 1], c = 'b')\n",
        "#plt.scatter(data_dict[1][:, 0], data_dict[1][:, 1], c = 'r')"
      ],
      "metadata": {
        "colab": {
          "base_uri": "https://localhost:8080/",
          "height": 319
        },
        "id": "sL4Sgi0VoNFu",
        "outputId": "cfd4cbb3-ef1a-42f2-bd8c-437f854bf26f"
      },
      "execution_count": null,
      "outputs": [
        {
          "output_type": "stream",
          "name": "stdout",
          "text": [
            "Optimized a step.\n",
            "Optimized a step.\n",
            "Optimized a step.\n"
          ]
        },
        {
          "output_type": "display_data",
          "data": {
            "text/plain": [
              "<Figure size 432x288 with 1 Axes>"
            ],
            "image/png": "[encoded data removed]"
          },
          "metadata": {}
        }
      ]
    },
    {
      "cell_type": "code",
      "source": [
        "#Let's make the graph of the decision hyperplane\n",
        "#x =np.linspace(1,7,2)\n",
        "#w = svm1.w\n",
        "#b = svm1.b\n",
        "#y = (-b-w[0]*x)/w[1]\n",
        "\n",
        "#plt.scatter(data_dict[-1][:,0],data_dict[-1][:,1],c=\"b\")\n",
        "#plt.scatter(data_dict[1][:,0],data_dict[1][:,1],c=\"r\")\n",
        "#plt.plot(x,y,c=\"green\")\n",
        "\n",
        "#plt.show()\n",
        "\n",
        "#Now we are going to predict the labels of new values\n",
        "\n",
        "svm = Support_Vector_Machine()\n",
        "svm.fit(data=data_dict)\n",
        "predict_us = [[0,10],\n",
        "              [1,3],\n",
        "              [3,4],\n",
        "              [3,5],\n",
        "              [5,5],\n",
        "              [5,6],\n",
        "              [6,-5],\n",
        "              [5,8]]\n",
        "\n",
        "for p in predict_us:\n",
        "    svm.predict(p)\n",
        "\n",
        "svm.visualize()\n"
      ],
      "metadata": {
        "colab": {
          "base_uri": "https://localhost:8080/",
          "height": 317
        },
        "id": "Tg-nPCc0PjsI",
        "outputId": "6d0c5fb8-322e-4e84-b045-2bac60ba7b43"
      },
      "execution_count": null,
      "outputs": [
        {
          "output_type": "stream",
          "name": "stdout",
          "text": [
            "Optimized a step.\n",
            "Optimized a step.\n",
            "Optimized a step.\n"
          ]
        },
        {
          "output_type": "display_data",
          "data": {
            "text/plain": [
              "<Figure size 432x288 with 1 Axes>"
            ],
            "image/png": "[encoded data removed]"
          },
          "metadata": {}
        }
      ]
    },
    {
      "cell_type": "code",
      "source": [
        "svm1.predict([7,3.5])"
      ],
      "metadata": {
        "colab": {
          "base_uri": "https://localhost:8080/"
        },
        "id": "LmE-qAQOqwJ8",
        "outputId": "a3fbf9d8-8832-428e-edac-d18e6fa6f1fd"
      },
      "execution_count": null,
      "outputs": [
        {
          "output_type": "execute_result",
          "data": {
            "text/plain": [
              "1.0"
            ]
          },
          "metadata": {},
          "execution_count": 15
        }
      ]
    },
    {
      "cell_type": "markdown",
      "source": [
        "# 6) "
      ],
      "metadata": {
        "id": "t7F1z8sbkJU2"
      }
    },
    {
      "cell_type": "markdown",
      "source": [
        "https://la.mathworks.com/help/images/ref/entropy.html\n"
      ],
      "metadata": {
        "id": "vLOP5o6DcnBS"
      }
    },
    {
      "cell_type": "code",
      "source": [
        "import pandas as pd\n",
        "#First we save the dataset in such a way that we can call any feeature\n",
        "df = pd.read_csv(\"https://archive.ics.uci.edu/ml/machine-learning-databases/00267/data_banknote_authentication.txt\", \n",
        "                 sep = ',', \n",
        "                 header = None, \n",
        "                 names=[\"variance_of_Wavelet\",\"skewness_of_Wavelet\",\n",
        "                        \"curtosis_of_Wavelet\",\"entropy\",\n",
        "                        \"class\"],\n",
        "                 thousands = ',')\n",
        "variables=[\"variance_of_Wavelet\",\"skewness_of_Wavelet\",\n",
        "                        \"curtosis_of_Wavelet\",\"entropy\"]\n",
        "\n",
        "print(\"Dimensionality of the Dataframe:\",df.shape)\n"
      ],
      "metadata": {
        "colab": {
          "base_uri": "https://localhost:8080/"
        },
        "id": "77k8Az8l1rJH",
        "outputId": "d2de057b-c783-4ea5-8caa-b8e5821ac057"
      },
      "execution_count": null,
      "outputs": [
        {
          "output_type": "stream",
          "name": "stdout",
          "text": [
            "Dimensionality of the Dataframe: (1372, 5)\n"
          ]
        }
      ]
    },
    {
      "cell_type": "code",
      "source": [
        "print(df.loc[0].at[\"variance_of_Wavelet\"])\n"
      ],
      "metadata": {
        "colab": {
          "base_uri": "https://localhost:8080/"
        },
        "id": "FrN1W36W2ncN",
        "outputId": "3911b2cf-a39a-4bf1-a6bf-544cb8e0997c"
      },
      "execution_count": null,
      "outputs": [
        {
          "output_type": "stream",
          "name": "stdout",
          "text": [
            "3.6216\n"
          ]
        }
      ]
    },
    {
      "cell_type": "markdown",
      "source": [
        "So we can see that it agrees with the information given at first.\n"
      ],
      "metadata": {
        "id": "VEuqvaV72ORV"
      }
    },
    {
      "cell_type": "code",
      "source": [],
      "metadata": {
        "id": "w_ngM9QBxao1"
      },
      "execution_count": null,
      "outputs": []
    },
    {
      "cell_type": "markdown",
      "source": [
        "[1] https://people.seas.harvard.edu/~yaron/AM221-S16/lecture_notes/AM221_lecture13.pdf"
      ],
      "metadata": {
        "id": "_Xav_4VX9UmC"
      }
    },
    {
      "cell_type": "markdown",
      "source": [
        "**a)Linearly Separable**\n",
        "\n",
        "To analyze if the two data sets linearly are saparable (there exists a hyperplane separating the points with label 1 from the points with label -1) we are going to use the following result.\n",
        "\n",
        "*Proposition: Two sets are linearly separable if and only if the convex hulls of the vectors of each class don't intersect. [1]*\n",
        "\n",
        "On the other hand we know that convex hull $C$ of the points $\\{x_1,.~.~.~,x_k\\}$ can be seen as\n",
        "$$C =\\{x:x=\\sum_{i=1}^n α_ix_i,~α_i\\geq 0 ~ and~\\sum_{i=1}^n α_i=1. \\}.$$\n",
        "In our case we have two sets:\n",
        "$$P=\\{w: the~ label~ of~ w ~is~ 1\\}~~~~~~~~~N=\\{w: the~ label~ of~ w ~is~ -1\\}$$\n",
        "so we are going to define a function that can decide if a point $x$ belongs or not to the convex hull of its set.\n"
      ],
      "metadata": {
        "id": "y6K9efy86bEK"
      }
    },
    {
      "cell_type": "code",
      "source": [
        "#Function to decide if a point x is part of the convex hull\n",
        "def hull(points, x):\n",
        "  long_points=len(points)\n",
        "  long_x= len(x)\n",
        "  "
      ],
      "metadata": {
        "id": "rORA3SbXm3tw"
      },
      "execution_count": null,
      "outputs": []
    },
    {
      "cell_type": "markdown",
      "source": [
        "#SVM implementation (with sklearn)\n",
        "\n",
        "Now we are going to implement Support Vector Machine to the datasets, lets start with the Bancnote Authentication. "
      ],
      "metadata": {
        "id": "gtaAlaAq9Zpf"
      }
    },
    {
      "cell_type": "code",
      "source": [
        "from sklearn.model_selection import train_test_split\n",
        "#We divide the dataset randomly in 80% for training and 20% for testing\n",
        "train_set_df, test_set_df= train_test_split(df, test_size=0.2,random_state=42)"
      ],
      "metadata": {
        "id": "M_TdSzLWo8sO"
      },
      "execution_count": null,
      "outputs": []
    },
    {
      "cell_type": "code",
      "source": [
        "#Definition of the features X and the labels y for training\n",
        "X=train_set_df[['variance_of_Wavelet', 'skewness_of_Wavelet', 'curtosis_of_Wavelet','entropy']]\n",
        "y=train_set_df[\"class\"]\n",
        "#df.keys()"
      ],
      "metadata": {
        "id": "DQUbst0jq-YR"
      },
      "execution_count": null,
      "outputs": []
    },
    {
      "cell_type": "code",
      "source": [
        " #Definition of the features X_test and the labels y_test for testing\n",
        " X_test=test_set_df[['variance_of_Wavelet', 'skewness_of_Wavelet', 'curtosis_of_Wavelet',\n",
        "       'entropy']]\n",
        "y_test=test_set_df['class']"
      ],
      "metadata": {
        "id": "jtvwsqeVyuG9"
      },
      "execution_count": null,
      "outputs": []
    },
    {
      "cell_type": "code",
      "source": [
        "from sklearn import svm"
      ],
      "metadata": {
        "id": "y_r7pfoCuJlT"
      },
      "execution_count": null,
      "outputs": []
    },
    {
      "cell_type": "code",
      "source": [
        "X.shape\n",
        "y.shape\n"
      ],
      "metadata": {
        "colab": {
          "base_uri": "https://localhost:8080/",
          "height": 183
        },
        "id": "TljxV5wOwJpl",
        "outputId": "825ca93a-84c3-478e-a493-0c7655c7e703"
      },
      "execution_count": null,
      "outputs": [
        {
          "output_type": "error",
          "ename": "NameError",
          "evalue": "ignored",
          "traceback": [
            "\u001b[0;31m---------------------------------------------------------------------------\u001b[0m",
            "\u001b[0;31mNameError\u001b[0m                                 Traceback (most recent call last)",
            "\u001b[0;32m<ipython-input-1-08c7b2bd67f2>\u001b[0m in \u001b[0;36m<module>\u001b[0;34m\u001b[0m\n\u001b[0;32m----> 1\u001b[0;31m \u001b[0mX\u001b[0m\u001b[0;34m.\u001b[0m\u001b[0mshape\u001b[0m\u001b[0;34m\u001b[0m\u001b[0;34m\u001b[0m\u001b[0m\n\u001b[0m\u001b[1;32m      2\u001b[0m \u001b[0my\u001b[0m\u001b[0;34m.\u001b[0m\u001b[0mshape\u001b[0m\u001b[0;34m\u001b[0m\u001b[0;34m\u001b[0m\u001b[0m\n",
            "\u001b[0;31mNameError\u001b[0m: name 'X' is not defined"
          ]
        }
      ]
    },
    {
      "cell_type": "code",
      "source": [
        "#Implementation of the module\n",
        "clf= svm.SVC()\n",
        "clf.fit(X, y)"
      ],
      "metadata": {
        "colab": {
          "base_uri": "https://localhost:8080/",
          "height": 74
        },
        "id": "SfwZLjk4uhy9",
        "outputId": "394a2c06-dc76-41a1-fe32-f0c2686334ed"
      },
      "execution_count": null,
      "outputs": [
        {
          "output_type": "execute_result",
          "data": {
            "text/plain": [
              "SVC()"
            ],
            "text/html": [
              "<style>#sk-container-id-1 {color: black;background-color: white;}#sk-container-id-1 pre{padding: 0;}#sk-container-id-1 div.sk-toggleable {background-color: white;}#sk-container-id-1 label.sk-toggleable__label {cursor: pointer;display: block;width: 100%;margin-bottom: 0;padding: 0.3em;box-sizing: border-box;text-align: center;}#sk-container-id-1 label.sk-toggleable__label-arrow:before {content: \"▸\";float: left;margin-right: 0.25em;color: #696969;}#sk-container-id-1 label.sk-toggleable__label-arrow:hover:before {color: black;}#sk-container-id-1 div.sk-estimator:hover label.sk-toggleable__label-arrow:before {color: black;}#sk-container-id-1 div.sk-toggleable__content {max-height: 0;max-width: 0;overflow: hidden;text-align: left;background-color: #f0f8ff;}#sk-container-id-1 div.sk-toggleable__content pre {margin: 0.2em;color: black;border-radius: 0.25em;background-color: #f0f8ff;}#sk-container-id-1 input.sk-toggleable__control:checked~div.sk-toggleable__content {max-height: 200px;max-width: 100%;overflow: auto;}#sk-container-id-1 input.sk-toggleable__control:checked~label.sk-toggleable__label-arrow:before {content: \"▾\";}#sk-container-id-1 div.sk-estimator input.sk-toggleable__control:checked~label.sk-toggleable__label {background-color: #d4ebff;}#sk-container-id-1 div.sk-label input.sk-toggleable__control:checked~label.sk-toggleable__label {background-color: #d4ebff;}#sk-container-id-1 input.sk-hidden--visually {border: 0;clip: rect(1px 1px 1px 1px);clip: rect(1px, 1px, 1px, 1px);height: 1px;margin: -1px;overflow: hidden;padding: 0;position: absolute;width: 1px;}#sk-container-id-1 div.sk-estimator {font-family: monospace;background-color: #f0f8ff;border: 1px dotted black;border-radius: 0.25em;box-sizing: border-box;margin-bottom: 0.5em;}#sk-container-id-1 div.sk-estimator:hover {background-color: #d4ebff;}#sk-container-id-1 div.sk-parallel-item::after {content: \"\";width: 100%;border-bottom: 1px solid gray;flex-grow: 1;}#sk-container-id-1 div.sk-label:hover label.sk-toggleable__label {background-color: #d4ebff;}#sk-container-id-1 div.sk-serial::before {content: \"\";position: absolute;border-left: 1px solid gray;box-sizing: border-box;top: 0;bottom: 0;left: 50%;z-index: 0;}#sk-container-id-1 div.sk-serial {display: flex;flex-direction: column;align-items: center;background-color: white;padding-right: 0.2em;padding-left: 0.2em;position: relative;}#sk-container-id-1 div.sk-item {position: relative;z-index: 1;}#sk-container-id-1 div.sk-parallel {display: flex;align-items: stretch;justify-content: center;background-color: white;position: relative;}#sk-container-id-1 div.sk-item::before, #sk-container-id-1 div.sk-parallel-item::before {content: \"\";position: absolute;border-left: 1px solid gray;box-sizing: border-box;top: 0;bottom: 0;left: 50%;z-index: -1;}#sk-container-id-1 div.sk-parallel-item {display: flex;flex-direction: column;z-index: 1;position: relative;background-color: white;}#sk-container-id-1 div.sk-parallel-item:first-child::after {align-self: flex-end;width: 50%;}#sk-container-id-1 div.sk-parallel-item:last-child::after {align-self: flex-start;width: 50%;}#sk-container-id-1 div.sk-parallel-item:only-child::after {width: 0;}#sk-container-id-1 div.sk-dashed-wrapped {border: 1px dashed gray;margin: 0 0.4em 0.5em 0.4em;box-sizing: border-box;padding-bottom: 0.4em;background-color: white;}#sk-container-id-1 div.sk-label label {font-family: monospace;font-weight: bold;display: inline-block;line-height: 1.2em;}#sk-container-id-1 div.sk-label-container {text-align: center;}#sk-container-id-1 div.sk-container {/* jupyter's `normalize.less` sets `[hidden] { display: none; }` but bootstrap.min.css set `[hidden] { display: none !important; }` so we also need the `!important` here to be able to override the default hidden behavior on the sphinx rendered scikit-learn.org. See: https://github.com/scikit-learn/scikit-learn/issues/21755 */display: inline-block !important;position: relative;}#sk-container-id-1 div.sk-text-repr-fallback {display: none;}</style><div id=\"sk-container-id-1\" class=\"sk-top-container\"><div class=\"sk-text-repr-fallback\"><pre>SVC()</pre><b>In a Jupyter environment, please rerun this cell to show the HTML representation or trust the notebook. <br />On GitHub, the HTML representation is unable to render, please try loading this page with nbviewer.org.</b></div><div class=\"sk-container\" hidden><div class=\"sk-item\"><div class=\"sk-estimator sk-toggleable\"><input class=\"sk-toggleable__control sk-hidden--visually\" id=\"sk-estimator-id-1\" type=\"checkbox\" checked><label for=\"sk-estimator-id-1\" class=\"sk-toggleable__label sk-toggleable__label-arrow\">SVC</label><div class=\"sk-toggleable__content\"><pre>SVC()</pre></div></div></div></div></div>"
            ]
          },
          "metadata": {},
          "execution_count": 27
        }
      ]
    },
    {
      "cell_type": "code",
      "source": [
        "predicted_svm= clf.predict(X)\n",
        "predicted_svm_test=clf.predict(X_test)"
      ],
      "metadata": {
        "id": "owNgRsS9xz4I"
      },
      "execution_count": null,
      "outputs": []
    },
    {
      "cell_type": "code",
      "source": [
        "from sklearn.cluster import KMeans\n",
        "from sklearn.metrics import confusion_matrix\n",
        "from sklearn.metrics import accuracy_score"
      ],
      "metadata": {
        "id": "ys7DIyoUz78K"
      },
      "execution_count": null,
      "outputs": []
    },
    {
      "cell_type": "code",
      "source": [
        "#Accuracy measure for the training set\n",
        "accuracy_train= accuracy_score(y, predicted_svm).round(2)\n",
        "conf_matrix_train= confusion_matrix(y , predicted_svm)"
      ],
      "metadata": {
        "id": "X_MZLBZfzmiW"
      },
      "execution_count": null,
      "outputs": []
    },
    {
      "cell_type": "code",
      "source": [
        "print('Accuracy:', accuracy)\n",
        "print('Confusion matrix:\\n', conf_matrix_train)"
      ],
      "metadata": {
        "colab": {
          "base_uri": "https://localhost:8080/"
        },
        "id": "iTdDb2zM5MiF",
        "outputId": "30e3dc38-0b77-4e27-fd46-ec25342cba0d"
      },
      "execution_count": null,
      "outputs": [
        {
          "output_type": "stream",
          "name": "stdout",
          "text": [
            "Accuracy: 1.0\n",
            "Confusion matrix:\n",
            " [[609   5]\n",
            " [  0 483]]\n"
          ]
        }
      ]
    },
    {
      "cell_type": "code",
      "source": [
        "#Accuracy measure for the testing dataset\n",
        "accuracy_test= accuracy_score(y_test, predicted_svm_test).round(2)\n",
        "conf_matrix_test= confusion_matrix(y_test, predicted_svm_test)"
      ],
      "metadata": {
        "id": "3RIJiFwt7dYX"
      },
      "execution_count": null,
      "outputs": []
    },
    {
      "cell_type": "code",
      "source": [
        "print('Acuracy:',accuracy_test)\n",
        "print('Confusion matrix:\\n', conf_matrix_test)"
      ],
      "metadata": {
        "colab": {
          "base_uri": "https://localhost:8080/"
        },
        "id": "plk8PPaI8n_O",
        "outputId": "8678f762-07b0-4cd5-b552-e4da4ac6bb6a"
      },
      "execution_count": null,
      "outputs": [
        {
          "output_type": "stream",
          "name": "stdout",
          "text": [
            "Acuracy: 1.0\n",
            "Confusion matrix:\n",
            " [[148   0]\n",
            " [  0 127]]\n"
          ]
        }
      ]
    },
    {
      "cell_type": "markdown",
      "source": [
        "We can see that the method has a 100% accuracy, which means, it classify correctly all the dataset "
      ],
      "metadata": {
        "id": "9uWyYoQ5CPHP"
      }
    },
    {
      "cell_type": "markdown",
      "source": [],
      "metadata": {
        "id": "EDtbxj72COss"
      }
    },
    {
      "cell_type": "code",
      "source": [],
      "metadata": {
        "id": "A-iTsTOaox5J"
      },
      "execution_count": null,
      "outputs": []
    },
    {
      "cell_type": "code",
      "execution_count": null,
      "metadata": {
        "id": "w_sImQcOo3Jg"
      },
      "outputs": [],
      "source": [
        "# https://pythonprogramming.net/svm-optimization-python-2-machine-learning-tutorial/?completed=/svm-optimization-python-machine-learning-tutorial/\n",
        "import matplotlib.pyplot as plt\n",
        "from matplotlib import style\n",
        "import numpy as np\n",
        "style.use('ggplot')\n",
        "\n",
        "class Support_Vector_Machine:\n",
        "    def __init__(self, visualization=True):\n",
        "        self.visualization = visualization\n",
        "        #We define the colors of the associated classes, where red is for the forged banknotes and blue for the genuine ones\n",
        "        self.colors = {1:'r',-1:'b'}\n",
        "        if self.visualization:\n",
        "            self.fig = plt.figure()\n",
        "            self.ax = self.fig.add_subplot(1,1,1)\n",
        "\n",
        "    # train (optimization part) d:number of directions\n",
        "    def fit1(self, data, d):\n",
        "        self.data = data\n",
        "        # We define this dictionary to save the values { ||w||: [w,b] }\n",
        "        opt_dict = {}\n",
        "\n",
        "        # Transforms that we are going to apply to the vector w to optimize w\n",
        "        transforms = []\n",
        "        rad=d*np.pi/180\n",
        "        for angle in np.arange(0,2*np.pi,rad):\n",
        "          transforms.append([np.cos(angle), np.sin(angle)])\n",
        "\n",
        "        \n",
        "\n",
        "        #Reconstruction of the dataset (only the characteristic) where the first value is the label and then the vectors that represent the features, to take max and min feature value\n",
        "        #of the dataset take all the features\n",
        "        all_data = []\n",
        "        for yi in self.data:\n",
        "            for featureset in self.data[yi]:\n",
        "                for feature in featureset:\n",
        "                    all_data.append(feature)\n",
        "\n",
        "        self.max_feature_value = max(all_data)\n",
        "        self.min_feature_value = min(all_data)\n",
        "        all_data = None\n",
        "\n",
        "        # support vectors yi(xi.w+b) = 1\n",
        "\n",
        "        #We start looking a good value using big steps (0.1), after we find a good one we use smaller steps (0.01) and then we repeat the process \n",
        "        \n",
        "        step_sizes = [self.max_feature_value * 0.1,\n",
        "                      self.max_feature_value * 0.01,\n",
        "                      # point of expense:\n",
        "                      self.max_feature_value * 0.001,]\n",
        "\n",
        "        \n",
        "        \n",
        "        # extremely expensive\n",
        "        b_range_multiple = 5\n",
        "        # we dont need to take as small of steps \n",
        "        # with b as we do w\n",
        "        b_multiple = 5\n",
        "        # latest_optimum is going to be the first element in vector w\n",
        "        latest_optimum = self.max_feature_value*10\n",
        "\n",
        "\n",
        "        #We want the minimum magnitude of w and the maximum b\n",
        "\n",
        "        for step in step_sizes:\n",
        "            w = np.array([latest_optimum,latest_optimum])\n",
        "            # we can do this because convex\n",
        "            optimized = False\n",
        "            #While va a funcionar siempre que no esté optimizado, por eso en la anterior linea definimos optimized as false\n",
        "            while not optimized:\n",
        "              #we take b from -the maximum value to the maximum value in steps \n",
        "              #of 5 times the steps of w\n",
        "                for b in np.arange(-1*(self.max_feature_value*b_range_multiple),\n",
        "                                   self.max_feature_value*b_range_multiple,\n",
        "                                   step*b_multiple):\n",
        "                    for transformation in transforms:\n",
        "                      #We multiply w with the vectors of transformation component to component\n",
        "                        w_t = w*transformation\n",
        "                        found_option = True\n",
        "                        # weakest link in the SVM fundamentally\n",
        "                        # SMO attempts to fix this a bit\n",
        "                        # yi(xi.w+b) >= 1\n",
        "                        # \n",
        "                        # #### add a break here later..\n",
        "                        for i in self.data:\n",
        "                          #for all data we are going to verify, so if there is \n",
        "                          #at least one i that doesn't meet the condition, then we return false\n",
        "                            for xi in self.data[i]:\n",
        "                                #we only change the label's name\n",
        "                                yi=i\n",
        "                                # Verifiy constraints, if it doesn't meet the \n",
        "                                #condition then it doesn't save the value\n",
        "                                if not yi*(np.dot(w_t,xi)+b) >= 1:\n",
        "                                    found_option = False\n",
        "                                    \n",
        "                        if found_option:\n",
        "                            # Computes norm for the ones who meet the condition\n",
        "                            opt_dict[np.linalg.norm(w_t)] = [w_t,b]\n",
        "\n",
        "                #w da la pendiente de la recta y la distancia entre los soportes\n",
        "                #¿POR QUÉ? basta revisar los positivos para estudiar todas las posibles opciones, pues w<0 repiten casos que ya se vieron\n",
        "                if w[0] < 0:\n",
        "                  # it appears  \"Optimized a step\" when we finish the while of the first step\n",
        "                    optimized = True\n",
        "                    print('Optimized a step.')\n",
        "                else:\n",
        "                    w = w - step\n",
        "\n",
        "            #norms is vector of all the values of opt_dict organized from the smallest\n",
        "            #to the biggest, so norms[0] is going to be the smallest \n",
        "            #so we take the smallest w of the list and we use it to define latest_optimum that \n",
        "            #is going to be the new component of w\n",
        "            norms = sorted([n for n in opt_dict])\n",
        "            #||w|| : [w,b]\n",
        "            opt_choice = opt_dict[norms[0]] #el de norma más chiquita\n",
        "            self.w = opt_choice[0]\n",
        "            self.b = opt_choice[1]\n",
        "            #opt_choice[0] is w and opt_choice[0][0] is the fisrt component of w\n",
        "            latest_optimum = opt_choice[0][0]+step*2\n",
        "\n",
        "\n",
        "            \n",
        "            \n",
        "    #Gives the data to predict and returns the label of it\n",
        "    def predict(self,features):\n",
        "        # The classification depends on the sign of x.w+b (x:np.array(features) w:self.w  b:self.b)\n",
        "        classification = np.sign(np.dot(np.array(features),self.w)+self.b)\n",
        "    #We add two lines: if x.w+b is different from 0 then we mark it with a star of the corresponging color\n",
        "        if classification !=0 and self.visualization:\n",
        "            self.ax.scatter(features[0], features[1], s=200, marker='*', c=self.colors[classification])\n",
        "        return classification\n",
        "\n",
        "    #Now we define a function that let us see the data in the corresponding color and the decision boundary\n",
        "    def visualize(self):\n",
        "      [[self.ax.scatter(x[0],x[1],s=100,color=self.colors[i]) for x in data_dict[i]] for i in data_dict]\n",
        "      \n",
        "      def hyperplane(x,w,b):\n",
        "        return (-w[0]*x-b) / w[1]\n",
        "\n",
        "      #We define the graph domain depending on the smallest and biggest value of x\n",
        "      range = (self.min_feature_value*0.9,self.max_feature_value*1.1)\n",
        "      hyp_x_min=range[0]\n",
        "      hyp_x_max=range[1]\n",
        "\n",
        "      sv1=hyperplane(hyp_x_min, self.w, self.b)\n",
        "      sv2=hyperplane(hyp_x_max, self.w, self.b)\n",
        "      self.ax.plot([hyp_x_min,hyp_x_max],[sv1,sv2], \"g\")\n",
        "\n",
        "      plt.show()\n",
        "\n",
        "        \n",
        "\n"
      ]
    },
    {
      "cell_type": "code",
      "source": [
        "data_dict = {-1:np.array([[1,7],\n",
        "                          [2,8],\n",
        "                          [3,8],]),\n",
        "             \n",
        "             1:np.array([[5,1],\n",
        "                         [6,-1],\n",
        "                         [7,3],])}\n",
        "\n",
        "svm1 = Support_Vector_Machine()\n",
        "svm1.fit1(data_dict , 10)\n",
        "#svm1.fit1(data=data_dict, 2)\n",
        "#svm1.visualize()\n",
        "\n",
        "predict_us = [[0,10],\n",
        "              [1,3],\n",
        "              [3,4],\n",
        "              [3,5],\n",
        "              [5,5],\n",
        "              [5,6],\n",
        "              [6,-5],\n",
        "              [5,8]]\n",
        "\n",
        "for p in predict_us:\n",
        "    svm1.predict(p)\n",
        "\n",
        "svm1.visualize()\n",
        "\n"
      ],
      "metadata": {
        "colab": {
          "base_uri": "https://localhost:8080/",
          "height": 369
        },
        "id": "A_QZKLPYuq2W",
        "outputId": "d7842457-270e-4997-a79a-db588c85a218"
      },
      "execution_count": null,
      "outputs": [
        {
          "output_type": "stream",
          "name": "stdout",
          "text": [
            "Optimized a step.\n",
            "Optimized a step.\n",
            "Optimized a step.\n",
            "Optimized a step.\n",
            "Optimized a step.\n",
            "Optimized a step.\n"
          ]
        },
        {
          "output_type": "display_data",
          "data": {
            "text/plain": [
              "<Figure size 432x288 with 1 Axes>"
            ],
            "image/png": "[encoded data removed]"
          },
          "metadata": {}
        }
      ]
    },
    {
      "cell_type": "code",
      "source": [
        "try_data= {-1:np.array([[3,7],\n",
        "                          [1,2],\n",
        "                          [1,5],]),\n",
        "             \n",
        "             1:np.array([[5,1],\n",
        "                         [6,7],\n",
        "                         [6,4],])}\n",
        "\n",
        "svm1 = Support_Vector_Machine()\n",
        "svm1.fit1(data_dict , 15)\n",
        "\n",
        "predict_us = [[0,10],\n",
        "              [1,3],\n",
        "              [3,4],\n",
        "              [3,5],\n",
        "              [5,5],\n",
        "              [5,6],\n",
        "              [6,-5],\n",
        "              [5,8]]\n",
        "\n",
        "for p in predict_us:\n",
        "    svm1.predict(p)\n",
        "\n",
        "svm1.visualize()"
      ],
      "metadata": {
        "colab": {
          "base_uri": "https://localhost:8080/",
          "height": 317
        },
        "id": "oeQE-rG3yRMY",
        "outputId": "cfa2ea20-f03b-4d13-b797-b50a31d437b9"
      },
      "execution_count": null,
      "outputs": [
        {
          "output_type": "stream",
          "name": "stdout",
          "text": [
            "Optimized a step.\n",
            "Optimized a step.\n",
            "Optimized a step.\n"
          ]
        },
        {
          "output_type": "display_data",
          "data": {
            "text/plain": [
              "<Figure size 432x288 with 1 Axes>"
            ],
            "image/png": "[encoded data removed]"
          },
          "metadata": {}
        }
      ]
    }
  ]
}